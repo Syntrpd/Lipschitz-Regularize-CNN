{
  "cells": [
    {
      "cell_type": "code",
      "execution_count": 2,
      "metadata": {
        "id": "WjoPhcwcjGHQ"
      },
      "outputs": [],
      "source": [
        "import cmath\n",
        "import math\n",
        "import numpy as np\n",
        "import cvxpy as cp\n",
        "import torch\n",
        "import torchvision\n",
        "import torchvision.transforms as transforms"
      ]
    },
    {
      "cell_type": "code",
      "execution_count": 3,
      "metadata": {
        "id": "4T-rc99UG9I1"
      },
      "outputs": [],
      "source": [
        "def createFourierMatrix(k,n):\n",
        "    i = cmath.sqrt(-1)\n",
        "    val = cmath.exp(-2*cmath.pi*i/n)\n",
        "    p = (k-1)/2\n",
        "    q = (k+1)/2\n",
        "    F = torch.zeros(n*n,k*k)\n",
        "    F = F.type(torch.complex64)\n",
        "\n",
        "    f = torch.zeros(n,1);\n",
        "    f = f.type(torch.complex64)\n",
        "    f_u = torch.zeros(n*n,1);\n",
        "    f_u = f_u.type(torch.complex64)\n",
        "    for u in range(n):\n",
        "        index = torch.arange(u*n,(u+1)*n)\n",
        "        f_u[u*n:(u+1)*n]=val**u\n",
        "        f[u]=val**u;\n",
        "\n",
        "    f_v = f.repeat(n,1);\n",
        "    for u in range(k):\n",
        "        for v in range(k):\n",
        "            a=0\n",
        "            b=0\n",
        "            if(u<=p):\n",
        "                a = n-p+u;\n",
        "            else:\n",
        "                a = u-p;\n",
        "\n",
        "\n",
        "            if(v<=p):\n",
        "                b = n-p+v;\n",
        "            else:\n",
        "                b = v-p;\n",
        "\n",
        "            F[:,(u*k+v)]=((torch.pow(f_u,(a)))*(torch.pow(f_v,(b)))).flatten();\n",
        "\n",
        "    return F"
      ]
    },
    {
      "cell_type": "code",
      "execution_count": 4,
      "metadata": {
        "id": "DL5i_DPBGgCD"
      },
      "outputs": [],
      "source": [
        "def computeLayerLipschitzMatrix(layer_wt,n):\n",
        "    k = layer_wt.size()[3]\n",
        "    F = createFourierMatrix(k,n)\n",
        "    h = layer_wt.view(layer_wt.size(0),layer_wt.size(1),-1)\n",
        "    h = h.type(torch.complex64)\n",
        "    h_f = h.unsqueeze(-1);\n",
        "    F = F.unsqueeze(0).unsqueeze(0)\n",
        "    layer_pf = torch.matmul(F,h_f)\n",
        "    layer_fperm = torch.permute(layer_pf,(2,3,0,1))\n",
        "    sing = torch.linalg.svdvals(layer_fperm)\n",
        "    lip = torch.max(torch.abs(sing))\n",
        "    return lip"
      ]
    },
    {
      "cell_type": "code",
      "execution_count": 5,
      "metadata": {
        "id": "H3TL-uMwyXg3"
      },
      "outputs": [],
      "source": [
        "def zeroPad2DMatrix(layer_wt,n):\n",
        "    k = layer_wt.size()[3]\n",
        "    p = (k-1)/2\n",
        "    q = (k+1)/2\n",
        "    I = torch.eye(n);\n",
        "    ind1 = torch.arange(0,p)\n",
        "    ind2 = torch.arange(p,k)\n",
        "    ind3 = torch.arange(k,n)\n",
        "    indices = torch.cat((ind2,ind3,ind1))\n",
        "    indices=indices.type(torch.int64)\n",
        "    perm = I[indices]\n",
        "    perm_mat = perm.unsqueeze(0).unsqueeze(0)\n",
        "    pad_left = 0\n",
        "    pad_right = n - k\n",
        "    pad_top = 0\n",
        "    pad_bottom = n - k\n",
        "    # Apply padding\n",
        "    padded_wt = torch.nn.functional.pad(layer_wt, (pad_left, pad_right, pad_top, pad_bottom))\n",
        "    perm_mat_tr = torch.transpose(perm_mat,2,3)\n",
        "    padded_final = torch.matmul(perm_mat,torch.matmul(padded_wt,perm_mat_tr))\n",
        "    return padded_final"
      ]
    },
    {
      "cell_type": "code",
      "execution_count": null,
      "metadata": {},
      "outputs": [],
      "source": [
        "def deZeroPad2DMatrix(layer_wt,k):\n",
        "    device = torch.device('cuda' if torch.cuda.is_available() else 'cpu')\n",
        "    n = layer_wt.size()[-1]\n",
        "    p = (k-1)/2\n",
        "    q = (k+1)/2\n",
        "    I = torch.eye(n).to(device);\n",
        "    ind1 = torch.arange(0,p)\n",
        "    ind2 = torch.arange(p,k)\n",
        "    ind3 = torch.arange(k,n)\n",
        "    indices = torch.cat((ind2,ind3,ind1))\n",
        "    indices=indices.type(torch.int64)\n",
        "    perm = I[indices].to(device)\n",
        "    #perm_mat = perm.unsqueeze(0).unsqueeze(0)\n",
        "\n",
        "    # Apply padding\n",
        "    perm_mat_tr = torch.transpose(perm,-2,-1)\n",
        "\n",
        "    unpadded_wt = torch.matmul(perm_mat_tr,torch.matmul(layer_wt,perm))\n",
        "\n",
        "    layer = unpadded_wt[:,:,:k,:k].to(device)\n",
        "    return layer"
      ]
    },
    {
      "cell_type": "code",
      "execution_count": 6,
      "metadata": {
        "id": "sMdeSkO8hMD7"
      },
      "outputs": [],
      "source": [
        "def computeLayerLipschitzFourier(layer_wt,n):\n",
        "    layer_wt_padded = zeroPad2DMatrix(layer_wt,n)\n",
        "    layer_pf=torch.fft.fft2(layer_wt_padded)\n",
        "    layer_fperm = torch.permute(layer_pf,(2,3,0,1))\n",
        "    sing = torch.linalg.svdvals(layer_fperm)\n",
        "    lip = torch.max(torch.abs(sing))\n",
        "    return lip"
      ]
    },
    {
      "cell_type": "code",
      "execution_count": 6,
      "metadata": {
        "id": "ky75yFmy3gOc"
      },
      "outputs": [],
      "source": [
        "def computeLayerLipschitzFourier_NoSVD(layer_wt,n):\n",
        "    layer_wt_padded = zeroPad2DMatrix(layer_wt,n)\n",
        "    layer_pf=torch.fft.fft2(layer_wt_padded)\n",
        "    layer_fperm = torch.permute(layer_pf,(2,3,0,1))\n",
        "    sing = torch.linalg.matrix_norm(layer_fperm,ord=2)\n",
        "    lip = torch.max(sing)\n",
        "    return lip"
      ]
    },
    {
      "cell_type": "code",
      "execution_count": 20,
      "metadata": {
        "colab": {
          "base_uri": "https://localhost:8080/"
        },
        "id": "4JWGVvWApV5F",
        "outputId": "768cfca6-b404-4188-a476-7dd03ccdf4fa"
      },
      "outputs": [
        {
          "name": "stderr",
          "output_type": "stream",
          "text": [
            "/home/kunallab/anaconda3/envs/sayan/lib/python3.12/site-packages/torchvision/models/_utils.py:208: UserWarning: The parameter 'pretrained' is deprecated since 0.13 and may be removed in the future, please use 'weights' instead.\n",
            "  warnings.warn(\n",
            "/home/kunallab/anaconda3/envs/sayan/lib/python3.12/site-packages/torchvision/models/_utils.py:223: UserWarning: Arguments other than a weight enum or `None` for 'weights' are deprecated since 0.13 and may be removed in the future. The current behavior is equivalent to passing `weights=AlexNet_Weights.IMAGENET1K_V1`. You can also use `weights=AlexNet_Weights.DEFAULT` to get the most up-to-date weights.\n",
            "  warnings.warn(msg)\n"
          ]
        }
      ],
      "source": [
        "import torchvision.models as models\n",
        "alexnet_model = models.alexnet(pretrained=True)"
      ]
    },
    {
      "cell_type": "code",
      "execution_count": 21,
      "metadata": {
        "colab": {
          "base_uri": "https://localhost:8080/"
        },
        "id": "RVWvfmZ5jmin",
        "outputId": "4089fafe-8ac7-4c4f-c952-abcd7c016df5"
      },
      "outputs": [
        {
          "data": {
            "text/plain": [
              "AlexNet(\n",
              "  (features): Sequential(\n",
              "    (0): Conv2d(3, 64, kernel_size=(11, 11), stride=(4, 4), padding=(2, 2))\n",
              "    (1): ReLU(inplace=True)\n",
              "    (2): MaxPool2d(kernel_size=3, stride=2, padding=0, dilation=1, ceil_mode=False)\n",
              "    (3): Conv2d(64, 192, kernel_size=(5, 5), stride=(1, 1), padding=(2, 2))\n",
              "    (4): ReLU(inplace=True)\n",
              "    (5): MaxPool2d(kernel_size=3, stride=2, padding=0, dilation=1, ceil_mode=False)\n",
              "    (6): Conv2d(192, 384, kernel_size=(3, 3), stride=(1, 1), padding=(1, 1))\n",
              "    (7): ReLU(inplace=True)\n",
              "    (8): Conv2d(384, 256, kernel_size=(3, 3), stride=(1, 1), padding=(1, 1))\n",
              "    (9): ReLU(inplace=True)\n",
              "    (10): Conv2d(256, 256, kernel_size=(3, 3), stride=(1, 1), padding=(1, 1))\n",
              "    (11): ReLU(inplace=True)\n",
              "    (12): MaxPool2d(kernel_size=3, stride=2, padding=0, dilation=1, ceil_mode=False)\n",
              "  )\n",
              "  (avgpool): AdaptiveAvgPool2d(output_size=(6, 6))\n",
              "  (classifier): Sequential(\n",
              "    (0): Dropout(p=0.5, inplace=False)\n",
              "    (1): Linear(in_features=9216, out_features=4096, bias=True)\n",
              "    (2): ReLU(inplace=True)\n",
              "    (3): Dropout(p=0.5, inplace=False)\n",
              "    (4): Linear(in_features=4096, out_features=4096, bias=True)\n",
              "    (5): ReLU(inplace=True)\n",
              "    (6): Linear(in_features=4096, out_features=1000, bias=True)\n",
              "  )\n",
              ")"
            ]
          },
          "execution_count": 21,
          "metadata": {},
          "output_type": "execute_result"
        }
      ],
      "source": [
        "alexnet_model"
      ]
    },
    {
      "cell_type": "code",
      "execution_count": 22,
      "metadata": {
        "colab": {
          "base_uri": "https://localhost:8080/"
        },
        "id": "jYzSwBZrwxEA",
        "outputId": "5fa558a6-20b8-44c9-bcff-f29521ac05e8"
      },
      "outputs": [
        {
          "name": "stdout",
          "output_type": "stream",
          "text": [
            "tensor(35.8339, grad_fn=<MaxBackward1>)\n"
          ]
        }
      ],
      "source": [
        "layer1 = alexnet_model.features[0].weight\n",
        "lip = computeLayerLipschitzMatrix(layer1,257)\n",
        "print(lip)"
      ]
    },
    {
      "cell_type": "code",
      "execution_count": 23,
      "metadata": {
        "colab": {
          "base_uri": "https://localhost:8080/"
        },
        "id": "W-BH6oVHiTBp",
        "outputId": "bae80b9b-09b7-493d-be06-3bcc4f2d8525"
      },
      "outputs": [
        {
          "name": "stdout",
          "output_type": "stream",
          "text": [
            "tensor(35.8338, grad_fn=<MaxBackward1>)\n"
          ]
        }
      ],
      "source": [
        "layer1 = alexnet_model.features[0].weight\n",
        "lip = computeLayerLipschitzFourier(layer1,257)\n",
        "print(lip)"
      ]
    },
    {
      "cell_type": "code",
      "execution_count": null,
      "metadata": {
        "colab": {
          "base_uri": "https://localhost:8080/"
        },
        "id": "TyltwijT3ed-",
        "outputId": "f264767a-bbad-4af7-cefa-d8a574bc2e08"
      },
      "outputs": [
        {
          "name": "stdout",
          "output_type": "stream",
          "text": [
            "tensor(35.8338, grad_fn=<MaxBackward1>)\n"
          ]
        }
      ],
      "source": [
        "layer1 = alexnet_model.features[0].weight\n",
        "lip = computeLayerLipschitzFourier_NoSVD(layer1,257)\n",
        "print(lip)"
      ]
    },
    {
      "cell_type": "code",
      "execution_count": null,
      "metadata": {
        "id": "JxUfIA3S6Odd"
      },
      "outputs": [],
      "source": [
        "conv_layers = [];"
      ]
    },
    {
      "cell_type": "code",
      "execution_count": null,
      "metadata": {
        "id": "78RfZSvz5r_J"
      },
      "outputs": [],
      "source": [
        "conv_layers.append((alexnet_model.features[0].weight,257))\n",
        "conv_layers.append((alexnet_model.features[3].weight,27))\n",
        "conv_layers.append((alexnet_model.features[6].weight,13))\n",
        "conv_layers.append((alexnet_model.features[8].weight,13))\n",
        "conv_layers.append((alexnet_model.features[10].weight,13))"
      ]
    },
    {
      "cell_type": "code",
      "execution_count": null,
      "metadata": {
        "id": "xLYFtk3m61oU"
      },
      "outputs": [],
      "source": [
        "print(conv_layers)"
      ]
    },
    {
      "cell_type": "code",
      "execution_count": null,
      "metadata": {
        "colab": {
          "base_uri": "https://localhost:8080/"
        },
        "id": "0LdbSo9g67Yk",
        "outputId": "3e67c5a4-63b9-4a4e-ab63-55d5bdef580b"
      },
      "outputs": [
        {
          "name": "stdout",
          "output_type": "stream",
          "text": [
            "tensor(1675343.2500, grad_fn=<MulBackward0>)\n"
          ]
        }
      ],
      "source": [
        "lip=1;\n",
        "for layer_wt,n in conv_layers:\n",
        "    lip = computeLayerLipschitzMatrix(layer_wt,n) * lip\n",
        "\n",
        "print(lip)"
      ]
    },
    {
      "cell_type": "code",
      "execution_count": null,
      "metadata": {
        "colab": {
          "base_uri": "https://localhost:8080/"
        },
        "id": "qk7V75cH7HKD",
        "outputId": "2fd696a4-e823-45e0-e882-8ba85823a76f"
      },
      "outputs": [
        {
          "name": "stdout",
          "output_type": "stream",
          "text": [
            "tensor(35.8338, grad_fn=<MaxBackward1>)\n",
            "tensor(15.1426, grad_fn=<MaxBackward1>)\n",
            "tensor(12.3437, grad_fn=<MaxBackward1>)\n",
            "tensor(14.6736, grad_fn=<MaxBackward1>)\n",
            "tensor(17.0461, grad_fn=<MaxBackward1>)\n",
            "tensor(1675338.5000, grad_fn=<MulBackward0>)\n"
          ]
        }
      ],
      "source": [
        "lip=1;\n",
        "for layer_wt,n in conv_layers:\n",
        "    l = computeLayerLipschitzFourier(layer_wt,n)\n",
        "    print(l)\n",
        "    lip = l * lip\n",
        "\n",
        "print(lip)"
      ]
    },
    {
      "cell_type": "code",
      "execution_count": null,
      "metadata": {
        "colab": {
          "base_uri": "https://localhost:8080/"
        },
        "id": "juKoHiLf7H35",
        "outputId": "a9915408-d2d9-4ff3-a9f8-d072af97eea8"
      },
      "outputs": [
        {
          "name": "stdout",
          "output_type": "stream",
          "text": [
            "tensor(1675338.5000, grad_fn=<MulBackward0>)\n"
          ]
        }
      ],
      "source": [
        "lip=1;\n",
        "for layer_wt,n in conv_layers:\n",
        "    lip = computeLayerLipschitzFourier_NoSVD(layer_wt,n) * lip\n",
        "\n",
        "print(lip)"
      ]
    },
    {
      "cell_type": "code",
      "execution_count": 7,
      "metadata": {
        "id": "B82yo426QQbJ"
      },
      "outputs": [],
      "source": [
        "layer = torch.rand(6,6,3,3)"
      ]
    },
    {
      "cell_type": "code",
      "execution_count": 49,
      "metadata": {
        "colab": {
          "base_uri": "https://localhost:8080/"
        },
        "id": "m9hmuYDf1De_",
        "outputId": "46f31f5a-6ab1-415b-8a9e-978fec52ff6c"
      },
      "outputs": [
        {
          "data": {
            "text/plain": [
              "torch.Size([1, 1, 3, 3])"
            ]
          },
          "execution_count": 49,
          "metadata": {},
          "output_type": "execute_result"
        }
      ],
      "source": [
        "layer = torch.tensor([[0.1,0.1,0.1],[0.1,0.2,0.1],[0.1,0.1,0.1]])\n",
        "layer = layer.unsqueeze(0).unsqueeze(0)\n",
        "layer.shape"
      ]
    },
    {
      "cell_type": "code",
      "execution_count": 9,
      "metadata": {
        "colab": {
          "base_uri": "https://localhost:8080/"
        },
        "id": "trVXue6O-Cj9",
        "outputId": "08c7375e-9484-4f92-f656-a3a1e14b3ad5"
      },
      "outputs": [],
      "source": [
        "#Bhartendu Method\n",
        "layer_wt = layer\n",
        "s = layer_wt.size()\n",
        "layer_flat = torch.reshape(layer_wt,(s[0]*s[1],s[2]*s[3]))\n",
        "\n",
        "h_0 = layer_flat.detach().numpy()\n",
        "\n",
        "h = cp.Variable((s[0]*s[1],s[2]*s[3]))\n",
        "objective = cp.Minimize(cp.norm(h_0 - h,\"fro\"))\n",
        "k = s[3]\n",
        "n = 40\n",
        "F = createFourierMatrix(k,n)\n",
        "F = F.numpy()\n",
        "h_f = h@np.real(np.transpose(F)) + 1j*(h@np.imag(np.transpose(F)))\n",
        "\n",
        "constraints=[]\n",
        "for i in range(n*n):\n",
        "    mat = cp.reshape(h_f[:,i],(s[0],s[1]))\n",
        "    constraints.append(cp.norm1(mat)<=1)\n",
        "    constraints.append(cp.norm_inf(mat)<=1)\n",
        "\n",
        "prob = cp.Problem(objective, constraints)\n",
        "#prob.solve(solver=cp.SCS, gpu=True,use_indirect=True)\n",
        "prob.solve(solver=cp.SCS)\n",
        "\n",
        "ans1 = torch.from_numpy(h.value)\n",
        "ans1 = torch.reshape(ans1,(s[0],s[1],s[2],s[3]))\n",
        "print(torch.sum(torch.square(ans1-layer)))\n",
        "ans_layer = ans1.type(torch.float32)\n",
        "computeLayerLipschitzFourier(ans_layer,40)"
      ]
    },
    {
      "cell_type": "code",
      "execution_count": 16,
      "metadata": {
        "colab": {
          "base_uri": "https://localhost:8080/"
        },
        "id": "dND_LImMSdL-",
        "outputId": "34410fa2-e54d-4255-d0b8-ef3e46d0309f"
      },
      "outputs": [
        {
          "data": {
            "text/plain": [
              "array([[ 1.00001404e+00+0.00000000e+00j, -5.55111512e-17-1.66533454e-16j,\n",
              "        -5.55111512e-17+1.66533454e-16j,  3.33066907e-16-6.66133815e-16j,\n",
              "         5.55111512e-17-2.22044605e-16j,  1.00002017e+00-4.00166952e-17j,\n",
              "         3.33066907e-16+6.66133815e-16j,  1.00002017e+00+4.00166952e-17j,\n",
              "         5.55111512e-17+2.22044605e-16j]])"
            ]
          },
          "execution_count": 16,
          "metadata": {},
          "output_type": "execute_result"
        }
      ],
      "source": [
        "h_0 @ np.transpose(F)"
      ]
    },
    {
      "cell_type": "code",
      "execution_count": 15,
      "metadata": {
        "colab": {
          "base_uri": "https://localhost:8080/"
        },
        "id": "nigqHnM1RDaX",
        "outputId": "eaa580af-2260-4458-e804-38b3d7c9bdaf"
      },
      "outputs": [
        {
          "name": "stdout",
          "output_type": "stream",
          "text": [
            "tensor([[[[ 3.3334e-01, -6.8158e-07, -6.8158e-07],\n",
            "          [-6.8158e-07,  3.3334e-01, -6.8158e-07],\n",
            "          [-6.8158e-07, -6.8158e-07,  3.3334e-01]]]])\n"
          ]
        }
      ],
      "source": [
        "print(ans_layer)"
      ]
    },
    {
      "cell_type": "code",
      "execution_count": 13,
      "metadata": {
        "colab": {
          "base_uri": "https://localhost:8080/"
        },
        "id": "pjzEP0ISfNwP",
        "outputId": "fd820a66-fce5-481e-ec36-cb5c46a62fe7"
      },
      "outputs": [
        {
          "ename": "OverflowError",
          "evalue": "Python integer 26839577950 out of bounds for int32",
          "output_type": "error",
          "traceback": [
            "\u001b[0;31m---------------------------------------------------------------------------\u001b[0m",
            "\u001b[0;31mOverflowError\u001b[0m                             Traceback (most recent call last)",
            "Cell \u001b[0;32mIn[13], line 27\u001b[0m\n\u001b[1;32m     24\u001b[0m \u001b[38;5;66;03m#prob.solve(solver=cp.SCS, gpu=True)\u001b[39;00m\n\u001b[1;32m     25\u001b[0m \u001b[38;5;28;01mtry\u001b[39;00m:\n\u001b[1;32m     26\u001b[0m     \u001b[38;5;66;03m#prob.solve()  # Adjust solver as needed\u001b[39;00m\n\u001b[0;32m---> 27\u001b[0m     \u001b[43mprob\u001b[49m\u001b[38;5;241;43m.\u001b[39;49m\u001b[43msolve\u001b[49m\u001b[43m(\u001b[49m\u001b[43msolver\u001b[49m\u001b[38;5;241;43m=\u001b[39;49m\u001b[43mcp\u001b[49m\u001b[38;5;241;43m.\u001b[39;49m\u001b[43mSCS\u001b[49m\u001b[43m)\u001b[49m\n\u001b[1;32m     28\u001b[0m     ans2 \u001b[38;5;241m=\u001b[39m torch\u001b[38;5;241m.\u001b[39mfrom_numpy(h\u001b[38;5;241m.\u001b[39mvalue)\n\u001b[1;32m     29\u001b[0m     ans2 \u001b[38;5;241m=\u001b[39m torch\u001b[38;5;241m.\u001b[39mreshape(ans2,(s[\u001b[38;5;241m0\u001b[39m],s[\u001b[38;5;241m1\u001b[39m],s[\u001b[38;5;241m2\u001b[39m],s[\u001b[38;5;241m3\u001b[39m]))\n",
            "File \u001b[0;32m~/anaconda3/envs/sayan/lib/python3.12/site-packages/cvxpy/problems/problem.py:503\u001b[0m, in \u001b[0;36mProblem.solve\u001b[0;34m(self, *args, **kwargs)\u001b[0m\n\u001b[1;32m    501\u001b[0m \u001b[38;5;28;01melse\u001b[39;00m:\n\u001b[1;32m    502\u001b[0m     solve_func \u001b[38;5;241m=\u001b[39m Problem\u001b[38;5;241m.\u001b[39m_solve\n\u001b[0;32m--> 503\u001b[0m \u001b[38;5;28;01mreturn\u001b[39;00m \u001b[43msolve_func\u001b[49m\u001b[43m(\u001b[49m\u001b[38;5;28;43mself\u001b[39;49m\u001b[43m,\u001b[49m\u001b[43m \u001b[49m\u001b[38;5;241;43m*\u001b[39;49m\u001b[43margs\u001b[49m\u001b[43m,\u001b[49m\u001b[43m \u001b[49m\u001b[38;5;241;43m*\u001b[39;49m\u001b[38;5;241;43m*\u001b[39;49m\u001b[43mkwargs\u001b[49m\u001b[43m)\u001b[49m\n",
            "File \u001b[0;32m~/anaconda3/envs/sayan/lib/python3.12/site-packages/cvxpy/problems/problem.py:1073\u001b[0m, in \u001b[0;36mProblem._solve\u001b[0;34m(self, solver, warm_start, verbose, gp, qcp, requires_grad, enforce_dpp, ignore_dpp, canon_backend, **kwargs)\u001b[0m\n\u001b[1;32m   1070\u001b[0m         \u001b[38;5;28mself\u001b[39m\u001b[38;5;241m.\u001b[39munpack(chain\u001b[38;5;241m.\u001b[39mretrieve(soln))\n\u001b[1;32m   1071\u001b[0m         \u001b[38;5;28;01mreturn\u001b[39;00m \u001b[38;5;28mself\u001b[39m\u001b[38;5;241m.\u001b[39mvalue\n\u001b[0;32m-> 1073\u001b[0m data, solving_chain, inverse_data \u001b[38;5;241m=\u001b[39m \u001b[38;5;28;43mself\u001b[39;49m\u001b[38;5;241;43m.\u001b[39;49m\u001b[43mget_problem_data\u001b[49m\u001b[43m(\u001b[49m\n\u001b[1;32m   1074\u001b[0m \u001b[43m    \u001b[49m\u001b[43msolver\u001b[49m\u001b[43m,\u001b[49m\u001b[43m \u001b[49m\u001b[43mgp\u001b[49m\u001b[43m,\u001b[49m\u001b[43m \u001b[49m\u001b[43menforce_dpp\u001b[49m\u001b[43m,\u001b[49m\u001b[43m \u001b[49m\u001b[43mignore_dpp\u001b[49m\u001b[43m,\u001b[49m\u001b[43m \u001b[49m\u001b[43mverbose\u001b[49m\u001b[43m,\u001b[49m\u001b[43m \u001b[49m\u001b[43mcanon_backend\u001b[49m\u001b[43m,\u001b[49m\u001b[43m \u001b[49m\u001b[43mkwargs\u001b[49m\n\u001b[1;32m   1075\u001b[0m \u001b[43m\u001b[49m\u001b[43m)\u001b[49m\n\u001b[1;32m   1077\u001b[0m \u001b[38;5;28;01mif\u001b[39;00m verbose:\n\u001b[1;32m   1078\u001b[0m     \u001b[38;5;28mprint\u001b[39m(_NUM_SOLVER_STR)\n",
            "File \u001b[0;32m~/anaconda3/envs/sayan/lib/python3.12/site-packages/cvxpy/problems/problem.py:696\u001b[0m, in \u001b[0;36mProblem.get_problem_data\u001b[0;34m(self, solver, gp, enforce_dpp, ignore_dpp, verbose, canon_backend, solver_opts)\u001b[0m\n\u001b[1;32m    693\u001b[0m     s\u001b[38;5;241m.\u001b[39mLOGGER\u001b[38;5;241m.\u001b[39minfo(\n\u001b[1;32m    694\u001b[0m              \u001b[38;5;124m'\u001b[39m\u001b[38;5;124mCompiling problem (target solver=\u001b[39m\u001b[38;5;132;01m%s\u001b[39;00m\u001b[38;5;124m).\u001b[39m\u001b[38;5;124m'\u001b[39m, solver_name)\n\u001b[1;32m    695\u001b[0m     s\u001b[38;5;241m.\u001b[39mLOGGER\u001b[38;5;241m.\u001b[39minfo(\u001b[38;5;124m'\u001b[39m\u001b[38;5;124mReduction chain: \u001b[39m\u001b[38;5;132;01m%s\u001b[39;00m\u001b[38;5;124m'\u001b[39m, reduction_chain_str)\n\u001b[0;32m--> 696\u001b[0m data, inverse_data \u001b[38;5;241m=\u001b[39m \u001b[43msolving_chain\u001b[49m\u001b[38;5;241;43m.\u001b[39;49m\u001b[43mapply\u001b[49m\u001b[43m(\u001b[49m\u001b[38;5;28;43mself\u001b[39;49m\u001b[43m,\u001b[49m\u001b[43m \u001b[49m\u001b[43mverbose\u001b[49m\u001b[43m)\u001b[49m\n\u001b[1;32m    697\u001b[0m safe_to_cache \u001b[38;5;241m=\u001b[39m (\n\u001b[1;32m    698\u001b[0m     \u001b[38;5;28misinstance\u001b[39m(data, \u001b[38;5;28mdict\u001b[39m)\n\u001b[1;32m    699\u001b[0m     \u001b[38;5;129;01mand\u001b[39;00m s\u001b[38;5;241m.\u001b[39mPARAM_PROB \u001b[38;5;129;01min\u001b[39;00m data\n\u001b[1;32m    700\u001b[0m     \u001b[38;5;129;01mand\u001b[39;00m \u001b[38;5;129;01mnot\u001b[39;00m \u001b[38;5;28many\u001b[39m(\u001b[38;5;28misinstance\u001b[39m(reduction, EvalParams)\n\u001b[1;32m    701\u001b[0m                 \u001b[38;5;28;01mfor\u001b[39;00m reduction \u001b[38;5;129;01min\u001b[39;00m solving_chain\u001b[38;5;241m.\u001b[39mreductions)\n\u001b[1;32m    702\u001b[0m )\n\u001b[1;32m    703\u001b[0m \u001b[38;5;28mself\u001b[39m\u001b[38;5;241m.\u001b[39m_compilation_time \u001b[38;5;241m=\u001b[39m time\u001b[38;5;241m.\u001b[39mtime() \u001b[38;5;241m-\u001b[39m start\n",
            "File \u001b[0;32m~/anaconda3/envs/sayan/lib/python3.12/site-packages/cvxpy/reductions/chain.py:76\u001b[0m, in \u001b[0;36mChain.apply\u001b[0;34m(self, problem, verbose)\u001b[0m\n\u001b[1;32m     74\u001b[0m     \u001b[38;5;28;01mif\u001b[39;00m verbose:\n\u001b[1;32m     75\u001b[0m         s\u001b[38;5;241m.\u001b[39mLOGGER\u001b[38;5;241m.\u001b[39minfo(\u001b[38;5;124m'\u001b[39m\u001b[38;5;124mApplying reduction \u001b[39m\u001b[38;5;132;01m%s\u001b[39;00m\u001b[38;5;124m'\u001b[39m, \u001b[38;5;28mtype\u001b[39m(r)\u001b[38;5;241m.\u001b[39m\u001b[38;5;18m__name__\u001b[39m)\n\u001b[0;32m---> 76\u001b[0m     problem, inv \u001b[38;5;241m=\u001b[39m \u001b[43mr\u001b[49m\u001b[38;5;241;43m.\u001b[39;49m\u001b[43mapply\u001b[49m\u001b[43m(\u001b[49m\u001b[43mproblem\u001b[49m\u001b[43m)\u001b[49m\n\u001b[1;32m     77\u001b[0m     inverse_data\u001b[38;5;241m.\u001b[39mappend(inv)\n\u001b[1;32m     78\u001b[0m \u001b[38;5;28;01mreturn\u001b[39;00m problem, inverse_data\n",
            "File \u001b[0;32m~/anaconda3/envs/sayan/lib/python3.12/site-packages/cvxpy/reductions/solvers/conic_solvers/scs_conif.py:214\u001b[0m, in \u001b[0;36mSCS.apply\u001b[0;34m(self, problem)\u001b[0m\n\u001b[1;32m    206\u001b[0m \u001b[38;5;28;01mdef\u001b[39;00m \u001b[38;5;21mapply\u001b[39m(\u001b[38;5;28mself\u001b[39m, problem):\n\u001b[1;32m    207\u001b[0m \u001b[38;5;250m    \u001b[39m\u001b[38;5;124;03m\"\"\"Returns a new problem and data for inverting the new solution.\u001b[39;00m\n\u001b[1;32m    208\u001b[0m \n\u001b[1;32m    209\u001b[0m \u001b[38;5;124;03m    Returns\u001b[39;00m\n\u001b[0;32m   (...)\u001b[0m\n\u001b[1;32m    212\u001b[0m \u001b[38;5;124;03m        (dict of arguments needed for the solver, inverse data)\u001b[39;00m\n\u001b[1;32m    213\u001b[0m \u001b[38;5;124;03m    \"\"\"\u001b[39;00m\n\u001b[0;32m--> 214\u001b[0m     \u001b[38;5;28;01mreturn\u001b[39;00m \u001b[38;5;28;43msuper\u001b[39;49m\u001b[43m(\u001b[49m\u001b[43mSCS\u001b[49m\u001b[43m,\u001b[49m\u001b[43m \u001b[49m\u001b[38;5;28;43mself\u001b[39;49m\u001b[43m)\u001b[49m\u001b[38;5;241;43m.\u001b[39;49m\u001b[43mapply\u001b[49m\u001b[43m(\u001b[49m\u001b[43mproblem\u001b[49m\u001b[43m)\u001b[49m\n",
            "File \u001b[0;32m~/anaconda3/envs/sayan/lib/python3.12/site-packages/cvxpy/reductions/solvers/conic_solvers/conic_solver.py:355\u001b[0m, in \u001b[0;36mConicSolver.apply\u001b[0;34m(self, problem)\u001b[0m\n\u001b[1;32m    344\u001b[0m \u001b[38;5;250m\u001b[39m\u001b[38;5;124;03m\"\"\"Returns a new problem and data for inverting the new solution.\u001b[39;00m\n\u001b[1;32m    345\u001b[0m \n\u001b[1;32m    346\u001b[0m \u001b[38;5;124;03mReturns\u001b[39;00m\n\u001b[0;32m   (...)\u001b[0m\n\u001b[1;32m    349\u001b[0m \u001b[38;5;124;03m    (dict of arguments needed for the solver, inverse data)\u001b[39;00m\n\u001b[1;32m    350\u001b[0m \u001b[38;5;124;03m\"\"\"\u001b[39;00m\n\u001b[1;32m    352\u001b[0m \u001b[38;5;66;03m# This is a reference implementation following SCS conventions\u001b[39;00m\n\u001b[1;32m    353\u001b[0m \u001b[38;5;66;03m# Implementations for other solvers may amend or override the implementation entirely\u001b[39;00m\n\u001b[0;32m--> 355\u001b[0m problem, data, inv_data \u001b[38;5;241m=\u001b[39m \u001b[38;5;28;43mself\u001b[39;49m\u001b[38;5;241;43m.\u001b[39;49m\u001b[43m_prepare_data_and_inv_data\u001b[49m\u001b[43m(\u001b[49m\u001b[43mproblem\u001b[49m\u001b[43m)\u001b[49m\n\u001b[1;32m    357\u001b[0m \u001b[38;5;66;03m# Apply parameter values.\u001b[39;00m\n\u001b[1;32m    358\u001b[0m \u001b[38;5;66;03m# Obtain A, b such that Ax + s = b, s \\in cones.\u001b[39;00m\n\u001b[1;32m    359\u001b[0m \u001b[38;5;28;01mif\u001b[39;00m problem\u001b[38;5;241m.\u001b[39mP \u001b[38;5;129;01mis\u001b[39;00m \u001b[38;5;28;01mNone\u001b[39;00m:\n",
            "File \u001b[0;32m~/anaconda3/envs/sayan/lib/python3.12/site-packages/cvxpy/reductions/solvers/conic_solvers/conic_solver.py:332\u001b[0m, in \u001b[0;36mConicSolver._prepare_data_and_inv_data\u001b[0;34m(self, problem)\u001b[0m\n\u001b[1;32m    321\u001b[0m \u001b[38;5;66;03m# Format constraints\u001b[39;00m\n\u001b[1;32m    322\u001b[0m \u001b[38;5;66;03m#\u001b[39;00m\n\u001b[1;32m    323\u001b[0m \u001b[38;5;66;03m# By default cvxpy follows the SCS convention, which requires\u001b[39;00m\n\u001b[0;32m   (...)\u001b[0m\n\u001b[1;32m    329\u001b[0m \u001b[38;5;66;03m# 5. exponential\u001b[39;00m\n\u001b[1;32m    330\u001b[0m \u001b[38;5;66;03m# 6. three-dimensional power cones\u001b[39;00m\n\u001b[1;32m    331\u001b[0m \u001b[38;5;28;01mif\u001b[39;00m \u001b[38;5;129;01mnot\u001b[39;00m problem\u001b[38;5;241m.\u001b[39mformatted:\n\u001b[0;32m--> 332\u001b[0m     problem \u001b[38;5;241m=\u001b[39m \u001b[38;5;28;43mself\u001b[39;49m\u001b[38;5;241;43m.\u001b[39;49m\u001b[43mformat_constraints\u001b[49m\u001b[43m(\u001b[49m\u001b[43mproblem\u001b[49m\u001b[43m,\u001b[49m\u001b[43m \u001b[49m\u001b[38;5;28;43mself\u001b[39;49m\u001b[38;5;241;43m.\u001b[39;49m\u001b[43mEXP_CONE_ORDER\u001b[49m\u001b[43m)\u001b[49m\n\u001b[1;32m    333\u001b[0m data[s\u001b[38;5;241m.\u001b[39mPARAM_PROB] \u001b[38;5;241m=\u001b[39m problem\n\u001b[1;32m    334\u001b[0m data[\u001b[38;5;28mself\u001b[39m\u001b[38;5;241m.\u001b[39mDIMS] \u001b[38;5;241m=\u001b[39m problem\u001b[38;5;241m.\u001b[39mcone_dims\n",
            "File \u001b[0;32m~/anaconda3/envs/sayan/lib/python3.12/site-packages/cvxpy/reductions/solvers/conic_solvers/conic_solver.py:264\u001b[0m, in \u001b[0;36mConicSolver.format_constraints\u001b[0;34m(self, problem, exp_cone_order)\u001b[0m\n\u001b[1;32m    260\u001b[0m restruct_mat \u001b[38;5;241m=\u001b[39m as_block_diag_linear_operator(restruct_mat)\n\u001b[1;32m    261\u001b[0m \u001b[38;5;66;03m# this is equivalent to but _much_ faster than:\u001b[39;00m\n\u001b[1;32m    262\u001b[0m \u001b[38;5;66;03m#    restruct_mat_rep = sp.block_diag([restruct_mat]*(problem.x.size + 1))\u001b[39;00m\n\u001b[1;32m    263\u001b[0m \u001b[38;5;66;03m#    restruct_A = restruct_mat_rep * problem.A\u001b[39;00m\n\u001b[0;32m--> 264\u001b[0m unspecified, remainder \u001b[38;5;241m=\u001b[39m \u001b[38;5;28;43mdivmod\u001b[39;49m\u001b[43m(\u001b[49m\u001b[43mproblem\u001b[49m\u001b[38;5;241;43m.\u001b[39;49m\u001b[43mA\u001b[49m\u001b[38;5;241;43m.\u001b[39;49m\u001b[43mshape\u001b[49m\u001b[43m[\u001b[49m\u001b[38;5;241;43m0\u001b[39;49m\u001b[43m]\u001b[49m\u001b[43m \u001b[49m\u001b[38;5;241;43m*\u001b[39;49m\n\u001b[1;32m    265\u001b[0m \u001b[43m                                \u001b[49m\u001b[43mproblem\u001b[49m\u001b[38;5;241;43m.\u001b[39;49m\u001b[43mA\u001b[49m\u001b[38;5;241;43m.\u001b[39;49m\u001b[43mshape\u001b[49m\u001b[43m[\u001b[49m\u001b[38;5;241;43m1\u001b[39;49m\u001b[43m]\u001b[49m\u001b[43m,\u001b[49m\n\u001b[1;32m    266\u001b[0m \u001b[43m                                \u001b[49m\u001b[43mrestruct_mat\u001b[49m\u001b[38;5;241;43m.\u001b[39;49m\u001b[43mshape\u001b[49m\u001b[43m[\u001b[49m\u001b[38;5;241;43m1\u001b[39;49m\u001b[43m]\u001b[49m\u001b[43m)\u001b[49m\n\u001b[1;32m    267\u001b[0m reshaped_A \u001b[38;5;241m=\u001b[39m problem\u001b[38;5;241m.\u001b[39mA\u001b[38;5;241m.\u001b[39mreshape(restruct_mat\u001b[38;5;241m.\u001b[39mshape[\u001b[38;5;241m1\u001b[39m],\n\u001b[1;32m    268\u001b[0m                                unspecified, order\u001b[38;5;241m=\u001b[39m\u001b[38;5;124m'\u001b[39m\u001b[38;5;124mF\u001b[39m\u001b[38;5;124m'\u001b[39m)\u001b[38;5;241m.\u001b[39mtocsr()\n\u001b[1;32m    269\u001b[0m restructured_A \u001b[38;5;241m=\u001b[39m restruct_mat(reshaped_A)\u001b[38;5;241m.\u001b[39mtocoo()\n",
            "\u001b[0;31mOverflowError\u001b[0m: Python integer 26839577950 out of bounds for int32"
          ]
        }
      ],
      "source": [
        "#Linear constraints ||Re(h)|| + ||Im(h)|| <=1\n",
        "layer_wt = layer\n",
        "s = layer_wt.size()\n",
        "layer_flat = torch.reshape(layer_wt,(s[0]*s[1],s[2]*s[3]))\n",
        "\n",
        "h_0 = layer_flat.detach().numpy()\n",
        "\n",
        "h = cp.Variable((s[0]*s[1],s[2]*s[3]))\n",
        "objective = cp.Minimize(cp.norm(h_0 - h,\"fro\"))\n",
        "k = s[3]\n",
        "n = 40\n",
        "F = createFourierMatrix(k,n)\n",
        "F = F.numpy()\n",
        "F_real = F.real\n",
        "F_imag = F.imag\n",
        "h_f_real = h@np.transpose(F_real)\n",
        "h_f_imag = h@np.transpose(F_imag)\n",
        "\n",
        "constraints=[]\n",
        "for i in range(n*n):\n",
        "    constraints.append((cp.norm1(h_f_real[:,i])+cp.norm1(h_f_imag[:,i]))<=1)\n",
        "\n",
        "prob = cp.Problem(objective, constraints)\n",
        "#prob.solve(solver=cp.SCS, gpu=True)\n",
        "try:\n",
        "    #prob.solve()  # Adjust solver as needed\n",
        "    prob.solve(solver=cp.SCS)\n",
        "    ans2 = torch.from_numpy(h.value)\n",
        "    ans2 = torch.reshape(ans2,(s[0],s[1],s[2],s[3]))\n",
        "    print(torch.sum(torch.square(ans2-layer)))\n",
        "    ans_layer = ans2.type(torch.float32)\n",
        "    print(computeLayerLipschitzFourier(ans_layer,40))\n",
        "except cp.error.SolverError as e:\n",
        "    print(e)"
      ]
    },
    {
      "cell_type": "code",
      "execution_count": null,
      "metadata": {
        "colab": {
          "base_uri": "https://localhost:8080/"
        },
        "id": "4sQh2JR2wK4h",
        "outputId": "6224a411-630e-4ac9-ca50-6c3c1165486b"
      },
      "outputs": [
        {
          "data": {
            "text/plain": [
              "tensor(0.0747+0.j, dtype=torch.complex128)"
            ]
          },
          "execution_count": 19,
          "metadata": {},
          "output_type": "execute_result"
        }
      ],
      "source": [
        "torch.sum(torch.square(ans1-ans2))"
      ]
    },
    {
      "cell_type": "code",
      "execution_count": 14,
      "metadata": {
        "colab": {
          "base_uri": "https://localhost:8080/"
        },
        "id": "JHNuHjFsNzgQ",
        "outputId": "a006346f-8147-459f-f29f-80854c15ee4a"
      },
      "outputs": [
        {
          "name": "stderr",
          "output_type": "stream",
          "text": [
            "/home/kunallab/anaconda3/envs/sayan/lib/python3.12/site-packages/cvxpy/reductions/solvers/solving_chain.py:356: FutureWarning: \n",
            "    You specified your problem should be solved by ECOS. Starting in\n",
            "    CXVPY 1.6.0, ECOS will no longer be installed by default with CVXPY.\n",
            "    Please either add ECOS as an explicit install dependency to your project\n",
            "    or switch to our new default solver, Clarabel, by either not specifying a\n",
            "    solver argument or specifying ``solver=cp.CLARABEL``. To suppress this\n",
            "    warning while continuing to use ECOS, you can filter this warning using\n",
            "    Python's ``warnings`` module until you are using 1.6.0.\n",
            "    \n",
            "  warnings.warn(ECOS_DEP_DEPRECATION_MSG, FutureWarning)\n"
          ]
        },
        {
          "ename": "OverflowError",
          "evalue": "Python integer 26952038152 out of bounds for int32",
          "output_type": "error",
          "traceback": [
            "\u001b[0;31m---------------------------------------------------------------------------\u001b[0m",
            "\u001b[0;31mOverflowError\u001b[0m                             Traceback (most recent call last)",
            "Cell \u001b[0;32mIn[14], line 27\u001b[0m\n\u001b[1;32m     25\u001b[0m \u001b[38;5;66;03m#prob.solve(solver=cp.SCS, gpu=True)\u001b[39;00m\n\u001b[1;32m     26\u001b[0m \u001b[38;5;28;01mtry\u001b[39;00m:\n\u001b[0;32m---> 27\u001b[0m     \u001b[43mprob\u001b[49m\u001b[38;5;241;43m.\u001b[39;49m\u001b[43msolve\u001b[49m\u001b[43m(\u001b[49m\u001b[43msolver\u001b[49m\u001b[38;5;241;43m=\u001b[39;49m\u001b[43mcp\u001b[49m\u001b[38;5;241;43m.\u001b[39;49m\u001b[43mECOS\u001b[49m\u001b[43m)\u001b[49m  \u001b[38;5;66;03m# Adjust solver as needed\u001b[39;00m\n\u001b[1;32m     28\u001b[0m     \u001b[38;5;66;03m#prob.solve(solver=cp.SCS, gpu=True)\u001b[39;00m\n\u001b[1;32m     29\u001b[0m     ans3 \u001b[38;5;241m=\u001b[39m torch\u001b[38;5;241m.\u001b[39mfrom_numpy(h\u001b[38;5;241m.\u001b[39mvalue)\n",
            "File \u001b[0;32m~/anaconda3/envs/sayan/lib/python3.12/site-packages/cvxpy/problems/problem.py:503\u001b[0m, in \u001b[0;36mProblem.solve\u001b[0;34m(self, *args, **kwargs)\u001b[0m\n\u001b[1;32m    501\u001b[0m \u001b[38;5;28;01melse\u001b[39;00m:\n\u001b[1;32m    502\u001b[0m     solve_func \u001b[38;5;241m=\u001b[39m Problem\u001b[38;5;241m.\u001b[39m_solve\n\u001b[0;32m--> 503\u001b[0m \u001b[38;5;28;01mreturn\u001b[39;00m \u001b[43msolve_func\u001b[49m\u001b[43m(\u001b[49m\u001b[38;5;28;43mself\u001b[39;49m\u001b[43m,\u001b[49m\u001b[43m \u001b[49m\u001b[38;5;241;43m*\u001b[39;49m\u001b[43margs\u001b[49m\u001b[43m,\u001b[49m\u001b[43m \u001b[49m\u001b[38;5;241;43m*\u001b[39;49m\u001b[38;5;241;43m*\u001b[39;49m\u001b[43mkwargs\u001b[49m\u001b[43m)\u001b[49m\n",
            "File \u001b[0;32m~/anaconda3/envs/sayan/lib/python3.12/site-packages/cvxpy/problems/problem.py:1073\u001b[0m, in \u001b[0;36mProblem._solve\u001b[0;34m(self, solver, warm_start, verbose, gp, qcp, requires_grad, enforce_dpp, ignore_dpp, canon_backend, **kwargs)\u001b[0m\n\u001b[1;32m   1070\u001b[0m         \u001b[38;5;28mself\u001b[39m\u001b[38;5;241m.\u001b[39munpack(chain\u001b[38;5;241m.\u001b[39mretrieve(soln))\n\u001b[1;32m   1071\u001b[0m         \u001b[38;5;28;01mreturn\u001b[39;00m \u001b[38;5;28mself\u001b[39m\u001b[38;5;241m.\u001b[39mvalue\n\u001b[0;32m-> 1073\u001b[0m data, solving_chain, inverse_data \u001b[38;5;241m=\u001b[39m \u001b[38;5;28;43mself\u001b[39;49m\u001b[38;5;241;43m.\u001b[39;49m\u001b[43mget_problem_data\u001b[49m\u001b[43m(\u001b[49m\n\u001b[1;32m   1074\u001b[0m \u001b[43m    \u001b[49m\u001b[43msolver\u001b[49m\u001b[43m,\u001b[49m\u001b[43m \u001b[49m\u001b[43mgp\u001b[49m\u001b[43m,\u001b[49m\u001b[43m \u001b[49m\u001b[43menforce_dpp\u001b[49m\u001b[43m,\u001b[49m\u001b[43m \u001b[49m\u001b[43mignore_dpp\u001b[49m\u001b[43m,\u001b[49m\u001b[43m \u001b[49m\u001b[43mverbose\u001b[49m\u001b[43m,\u001b[49m\u001b[43m \u001b[49m\u001b[43mcanon_backend\u001b[49m\u001b[43m,\u001b[49m\u001b[43m \u001b[49m\u001b[43mkwargs\u001b[49m\n\u001b[1;32m   1075\u001b[0m \u001b[43m\u001b[49m\u001b[43m)\u001b[49m\n\u001b[1;32m   1077\u001b[0m \u001b[38;5;28;01mif\u001b[39;00m verbose:\n\u001b[1;32m   1078\u001b[0m     \u001b[38;5;28mprint\u001b[39m(_NUM_SOLVER_STR)\n",
            "File \u001b[0;32m~/anaconda3/envs/sayan/lib/python3.12/site-packages/cvxpy/problems/problem.py:696\u001b[0m, in \u001b[0;36mProblem.get_problem_data\u001b[0;34m(self, solver, gp, enforce_dpp, ignore_dpp, verbose, canon_backend, solver_opts)\u001b[0m\n\u001b[1;32m    693\u001b[0m     s\u001b[38;5;241m.\u001b[39mLOGGER\u001b[38;5;241m.\u001b[39minfo(\n\u001b[1;32m    694\u001b[0m              \u001b[38;5;124m'\u001b[39m\u001b[38;5;124mCompiling problem (target solver=\u001b[39m\u001b[38;5;132;01m%s\u001b[39;00m\u001b[38;5;124m).\u001b[39m\u001b[38;5;124m'\u001b[39m, solver_name)\n\u001b[1;32m    695\u001b[0m     s\u001b[38;5;241m.\u001b[39mLOGGER\u001b[38;5;241m.\u001b[39minfo(\u001b[38;5;124m'\u001b[39m\u001b[38;5;124mReduction chain: \u001b[39m\u001b[38;5;132;01m%s\u001b[39;00m\u001b[38;5;124m'\u001b[39m, reduction_chain_str)\n\u001b[0;32m--> 696\u001b[0m data, inverse_data \u001b[38;5;241m=\u001b[39m \u001b[43msolving_chain\u001b[49m\u001b[38;5;241;43m.\u001b[39;49m\u001b[43mapply\u001b[49m\u001b[43m(\u001b[49m\u001b[38;5;28;43mself\u001b[39;49m\u001b[43m,\u001b[49m\u001b[43m \u001b[49m\u001b[43mverbose\u001b[49m\u001b[43m)\u001b[49m\n\u001b[1;32m    697\u001b[0m safe_to_cache \u001b[38;5;241m=\u001b[39m (\n\u001b[1;32m    698\u001b[0m     \u001b[38;5;28misinstance\u001b[39m(data, \u001b[38;5;28mdict\u001b[39m)\n\u001b[1;32m    699\u001b[0m     \u001b[38;5;129;01mand\u001b[39;00m s\u001b[38;5;241m.\u001b[39mPARAM_PROB \u001b[38;5;129;01min\u001b[39;00m data\n\u001b[1;32m    700\u001b[0m     \u001b[38;5;129;01mand\u001b[39;00m \u001b[38;5;129;01mnot\u001b[39;00m \u001b[38;5;28many\u001b[39m(\u001b[38;5;28misinstance\u001b[39m(reduction, EvalParams)\n\u001b[1;32m    701\u001b[0m                 \u001b[38;5;28;01mfor\u001b[39;00m reduction \u001b[38;5;129;01min\u001b[39;00m solving_chain\u001b[38;5;241m.\u001b[39mreductions)\n\u001b[1;32m    702\u001b[0m )\n\u001b[1;32m    703\u001b[0m \u001b[38;5;28mself\u001b[39m\u001b[38;5;241m.\u001b[39m_compilation_time \u001b[38;5;241m=\u001b[39m time\u001b[38;5;241m.\u001b[39mtime() \u001b[38;5;241m-\u001b[39m start\n",
            "File \u001b[0;32m~/anaconda3/envs/sayan/lib/python3.12/site-packages/cvxpy/reductions/chain.py:76\u001b[0m, in \u001b[0;36mChain.apply\u001b[0;34m(self, problem, verbose)\u001b[0m\n\u001b[1;32m     74\u001b[0m     \u001b[38;5;28;01mif\u001b[39;00m verbose:\n\u001b[1;32m     75\u001b[0m         s\u001b[38;5;241m.\u001b[39mLOGGER\u001b[38;5;241m.\u001b[39minfo(\u001b[38;5;124m'\u001b[39m\u001b[38;5;124mApplying reduction \u001b[39m\u001b[38;5;132;01m%s\u001b[39;00m\u001b[38;5;124m'\u001b[39m, \u001b[38;5;28mtype\u001b[39m(r)\u001b[38;5;241m.\u001b[39m\u001b[38;5;18m__name__\u001b[39m)\n\u001b[0;32m---> 76\u001b[0m     problem, inv \u001b[38;5;241m=\u001b[39m \u001b[43mr\u001b[49m\u001b[38;5;241;43m.\u001b[39;49m\u001b[43mapply\u001b[49m\u001b[43m(\u001b[49m\u001b[43mproblem\u001b[49m\u001b[43m)\u001b[49m\n\u001b[1;32m     77\u001b[0m     inverse_data\u001b[38;5;241m.\u001b[39mappend(inv)\n\u001b[1;32m     78\u001b[0m \u001b[38;5;28;01mreturn\u001b[39;00m problem, inverse_data\n",
            "File \u001b[0;32m~/anaconda3/envs/sayan/lib/python3.12/site-packages/cvxpy/reductions/solvers/conic_solvers/ecos_conif.py:102\u001b[0m, in \u001b[0;36mECOS.apply\u001b[0;34m(self, problem)\u001b[0m\n\u001b[1;32m     94\u001b[0m \u001b[38;5;66;03m# Format constraints\u001b[39;00m\n\u001b[1;32m     95\u001b[0m \u001b[38;5;66;03m#\u001b[39;00m\n\u001b[1;32m     96\u001b[0m \u001b[38;5;66;03m# ECOS requires constraints to be specified in the following order:\u001b[39;00m\n\u001b[0;32m   (...)\u001b[0m\n\u001b[1;32m     99\u001b[0m \u001b[38;5;66;03m# 3. soc\u001b[39;00m\n\u001b[1;32m    100\u001b[0m \u001b[38;5;66;03m# 4. exponential\u001b[39;00m\n\u001b[1;32m    101\u001b[0m \u001b[38;5;28;01mif\u001b[39;00m \u001b[38;5;129;01mnot\u001b[39;00m problem\u001b[38;5;241m.\u001b[39mformatted:\n\u001b[0;32m--> 102\u001b[0m     problem \u001b[38;5;241m=\u001b[39m \u001b[38;5;28;43mself\u001b[39;49m\u001b[38;5;241;43m.\u001b[39;49m\u001b[43mformat_constraints\u001b[49m\u001b[43m(\u001b[49m\u001b[43mproblem\u001b[49m\u001b[43m,\u001b[49m\u001b[43m \u001b[49m\u001b[38;5;28;43mself\u001b[39;49m\u001b[38;5;241;43m.\u001b[39;49m\u001b[43mEXP_CONE_ORDER\u001b[49m\u001b[43m)\u001b[49m\n\u001b[1;32m    103\u001b[0m data[s\u001b[38;5;241m.\u001b[39mPARAM_PROB] \u001b[38;5;241m=\u001b[39m problem\n\u001b[1;32m    104\u001b[0m data[\u001b[38;5;28mself\u001b[39m\u001b[38;5;241m.\u001b[39mDIMS] \u001b[38;5;241m=\u001b[39m problem\u001b[38;5;241m.\u001b[39mcone_dims\n",
            "File \u001b[0;32m~/anaconda3/envs/sayan/lib/python3.12/site-packages/cvxpy/reductions/solvers/conic_solvers/conic_solver.py:264\u001b[0m, in \u001b[0;36mConicSolver.format_constraints\u001b[0;34m(self, problem, exp_cone_order)\u001b[0m\n\u001b[1;32m    260\u001b[0m restruct_mat \u001b[38;5;241m=\u001b[39m as_block_diag_linear_operator(restruct_mat)\n\u001b[1;32m    261\u001b[0m \u001b[38;5;66;03m# this is equivalent to but _much_ faster than:\u001b[39;00m\n\u001b[1;32m    262\u001b[0m \u001b[38;5;66;03m#    restruct_mat_rep = sp.block_diag([restruct_mat]*(problem.x.size + 1))\u001b[39;00m\n\u001b[1;32m    263\u001b[0m \u001b[38;5;66;03m#    restruct_A = restruct_mat_rep * problem.A\u001b[39;00m\n\u001b[0;32m--> 264\u001b[0m unspecified, remainder \u001b[38;5;241m=\u001b[39m \u001b[38;5;28;43mdivmod\u001b[39;49m\u001b[43m(\u001b[49m\u001b[43mproblem\u001b[49m\u001b[38;5;241;43m.\u001b[39;49m\u001b[43mA\u001b[49m\u001b[38;5;241;43m.\u001b[39;49m\u001b[43mshape\u001b[49m\u001b[43m[\u001b[49m\u001b[38;5;241;43m0\u001b[39;49m\u001b[43m]\u001b[49m\u001b[43m \u001b[49m\u001b[38;5;241;43m*\u001b[39;49m\n\u001b[1;32m    265\u001b[0m \u001b[43m                                \u001b[49m\u001b[43mproblem\u001b[49m\u001b[38;5;241;43m.\u001b[39;49m\u001b[43mA\u001b[49m\u001b[38;5;241;43m.\u001b[39;49m\u001b[43mshape\u001b[49m\u001b[43m[\u001b[49m\u001b[38;5;241;43m1\u001b[39;49m\u001b[43m]\u001b[49m\u001b[43m,\u001b[49m\n\u001b[1;32m    266\u001b[0m \u001b[43m                                \u001b[49m\u001b[43mrestruct_mat\u001b[49m\u001b[38;5;241;43m.\u001b[39;49m\u001b[43mshape\u001b[49m\u001b[43m[\u001b[49m\u001b[38;5;241;43m1\u001b[39;49m\u001b[43m]\u001b[49m\u001b[43m)\u001b[49m\n\u001b[1;32m    267\u001b[0m reshaped_A \u001b[38;5;241m=\u001b[39m problem\u001b[38;5;241m.\u001b[39mA\u001b[38;5;241m.\u001b[39mreshape(restruct_mat\u001b[38;5;241m.\u001b[39mshape[\u001b[38;5;241m1\u001b[39m],\n\u001b[1;32m    268\u001b[0m                                unspecified, order\u001b[38;5;241m=\u001b[39m\u001b[38;5;124m'\u001b[39m\u001b[38;5;124mF\u001b[39m\u001b[38;5;124m'\u001b[39m)\u001b[38;5;241m.\u001b[39mtocsr()\n\u001b[1;32m    269\u001b[0m restructured_A \u001b[38;5;241m=\u001b[39m restruct_mat(reshaped_A)\u001b[38;5;241m.\u001b[39mtocoo()\n",
            "\u001b[0;31mOverflowError\u001b[0m: Python integer 26952038152 out of bounds for int32"
          ]
        }
      ],
      "source": [
        "#L1norm objective Linear constraints ||Re(h)|| + ||Im(h)|| <=1\n",
        "layer_wt = layer\n",
        "s = layer_wt.size()\n",
        "layer_flat = torch.reshape(layer_wt,(s[0]*s[1],s[2]*s[3]))\n",
        "\n",
        "h_0 = layer_flat.detach().numpy()\n",
        "h_0_vec = h_0.ravel()\n",
        "h = cp.Variable((s[0]*s[1],s[2]*s[3]))\n",
        "objective = cp.Minimize(cp.norm(h_0_vec - cp.vec(h,order='F'),1))\n",
        "k = s[3]\n",
        "n = 40\n",
        "F = createFourierMatrix(k,n)\n",
        "F = F.numpy()\n",
        "F_real = F.real\n",
        "F_imag = F.imag\n",
        "h_f_real = h@np.transpose(F_real)\n",
        "h_f_imag = h@np.transpose(F_imag)\n",
        "\n",
        "constraints=[]\n",
        "for i in range(n*n):\n",
        "    constraints.append((cp.norm1(h_f_real[:,i])+cp.norm1(h_f_imag[:,i]))<=1)\n",
        "\n",
        "\n",
        "prob = cp.Problem(objective, constraints)\n",
        "#prob.solve(solver=cp.SCS, gpu=True)\n",
        "try:\n",
        "    prob.solve(solver=cp.ECOS)  # Adjust solver as needed\n",
        "    #prob.solve(solver=cp.SCS, gpu=True)\n",
        "    ans3 = torch.from_numpy(h.value)\n",
        "    ans3 = torch.reshape(ans3,(s[0],s[1],s[2],s[3]))\n",
        "    print(torch.sum(torch.square(ans3-layer)))\n",
        "    ans_layer = ans3.type(torch.float32)\n",
        "    print(computeLayerLipschitzFourier(ans_layer,40))\n",
        "except cp.error.SolverError as e:\n",
        "    print(e)"
      ]
    },
    {
      "cell_type": "code",
      "execution_count": 15,
      "metadata": {
        "id": "SC8e7_JLdXW2"
      },
      "outputs": [
        {
          "ename": "OverflowError",
          "evalue": "Python integer 28267946952 out of bounds for int32",
          "output_type": "error",
          "traceback": [
            "\u001b[0;31m---------------------------------------------------------------------------\u001b[0m",
            "\u001b[0;31mOverflowError\u001b[0m                             Traceback (most recent call last)",
            "Cell \u001b[0;32mIn[15], line 30\u001b[0m\n\u001b[1;32m     28\u001b[0m \u001b[38;5;66;03m#prob.solve(solver=cp.SCS, gpu=True)\u001b[39;00m\n\u001b[1;32m     29\u001b[0m \u001b[38;5;28;01mtry\u001b[39;00m:\n\u001b[0;32m---> 30\u001b[0m     \u001b[43mprob\u001b[49m\u001b[38;5;241;43m.\u001b[39;49m\u001b[43msolve\u001b[49m\u001b[43m(\u001b[49m\u001b[43msolver\u001b[49m\u001b[38;5;241;43m=\u001b[39;49m\u001b[43mcp\u001b[49m\u001b[38;5;241;43m.\u001b[39;49m\u001b[43mECOS\u001b[49m\u001b[43m)\u001b[49m  \u001b[38;5;66;03m# Adjust solver as needed\u001b[39;00m\n\u001b[1;32m     31\u001b[0m     \u001b[38;5;66;03m#prob.solve(solver=cp.SCS, gpu=True)\u001b[39;00m\n\u001b[1;32m     32\u001b[0m     ans3 \u001b[38;5;241m=\u001b[39m torch\u001b[38;5;241m.\u001b[39mfrom_numpy(h\u001b[38;5;241m.\u001b[39mvalue)\n",
            "File \u001b[0;32m~/anaconda3/envs/sayan/lib/python3.12/site-packages/cvxpy/problems/problem.py:503\u001b[0m, in \u001b[0;36mProblem.solve\u001b[0;34m(self, *args, **kwargs)\u001b[0m\n\u001b[1;32m    501\u001b[0m \u001b[38;5;28;01melse\u001b[39;00m:\n\u001b[1;32m    502\u001b[0m     solve_func \u001b[38;5;241m=\u001b[39m Problem\u001b[38;5;241m.\u001b[39m_solve\n\u001b[0;32m--> 503\u001b[0m \u001b[38;5;28;01mreturn\u001b[39;00m \u001b[43msolve_func\u001b[49m\u001b[43m(\u001b[49m\u001b[38;5;28;43mself\u001b[39;49m\u001b[43m,\u001b[49m\u001b[43m \u001b[49m\u001b[38;5;241;43m*\u001b[39;49m\u001b[43margs\u001b[49m\u001b[43m,\u001b[49m\u001b[43m \u001b[49m\u001b[38;5;241;43m*\u001b[39;49m\u001b[38;5;241;43m*\u001b[39;49m\u001b[43mkwargs\u001b[49m\u001b[43m)\u001b[49m\n",
            "File \u001b[0;32m~/anaconda3/envs/sayan/lib/python3.12/site-packages/cvxpy/problems/problem.py:1073\u001b[0m, in \u001b[0;36mProblem._solve\u001b[0;34m(self, solver, warm_start, verbose, gp, qcp, requires_grad, enforce_dpp, ignore_dpp, canon_backend, **kwargs)\u001b[0m\n\u001b[1;32m   1070\u001b[0m         \u001b[38;5;28mself\u001b[39m\u001b[38;5;241m.\u001b[39munpack(chain\u001b[38;5;241m.\u001b[39mretrieve(soln))\n\u001b[1;32m   1071\u001b[0m         \u001b[38;5;28;01mreturn\u001b[39;00m \u001b[38;5;28mself\u001b[39m\u001b[38;5;241m.\u001b[39mvalue\n\u001b[0;32m-> 1073\u001b[0m data, solving_chain, inverse_data \u001b[38;5;241m=\u001b[39m \u001b[38;5;28;43mself\u001b[39;49m\u001b[38;5;241;43m.\u001b[39;49m\u001b[43mget_problem_data\u001b[49m\u001b[43m(\u001b[49m\n\u001b[1;32m   1074\u001b[0m \u001b[43m    \u001b[49m\u001b[43msolver\u001b[49m\u001b[43m,\u001b[49m\u001b[43m \u001b[49m\u001b[43mgp\u001b[49m\u001b[43m,\u001b[49m\u001b[43m \u001b[49m\u001b[43menforce_dpp\u001b[49m\u001b[43m,\u001b[49m\u001b[43m \u001b[49m\u001b[43mignore_dpp\u001b[49m\u001b[43m,\u001b[49m\u001b[43m \u001b[49m\u001b[43mverbose\u001b[49m\u001b[43m,\u001b[49m\u001b[43m \u001b[49m\u001b[43mcanon_backend\u001b[49m\u001b[43m,\u001b[49m\u001b[43m \u001b[49m\u001b[43mkwargs\u001b[49m\n\u001b[1;32m   1075\u001b[0m \u001b[43m\u001b[49m\u001b[43m)\u001b[49m\n\u001b[1;32m   1077\u001b[0m \u001b[38;5;28;01mif\u001b[39;00m verbose:\n\u001b[1;32m   1078\u001b[0m     \u001b[38;5;28mprint\u001b[39m(_NUM_SOLVER_STR)\n",
            "File \u001b[0;32m~/anaconda3/envs/sayan/lib/python3.12/site-packages/cvxpy/problems/problem.py:696\u001b[0m, in \u001b[0;36mProblem.get_problem_data\u001b[0;34m(self, solver, gp, enforce_dpp, ignore_dpp, verbose, canon_backend, solver_opts)\u001b[0m\n\u001b[1;32m    693\u001b[0m     s\u001b[38;5;241m.\u001b[39mLOGGER\u001b[38;5;241m.\u001b[39minfo(\n\u001b[1;32m    694\u001b[0m              \u001b[38;5;124m'\u001b[39m\u001b[38;5;124mCompiling problem (target solver=\u001b[39m\u001b[38;5;132;01m%s\u001b[39;00m\u001b[38;5;124m).\u001b[39m\u001b[38;5;124m'\u001b[39m, solver_name)\n\u001b[1;32m    695\u001b[0m     s\u001b[38;5;241m.\u001b[39mLOGGER\u001b[38;5;241m.\u001b[39minfo(\u001b[38;5;124m'\u001b[39m\u001b[38;5;124mReduction chain: \u001b[39m\u001b[38;5;132;01m%s\u001b[39;00m\u001b[38;5;124m'\u001b[39m, reduction_chain_str)\n\u001b[0;32m--> 696\u001b[0m data, inverse_data \u001b[38;5;241m=\u001b[39m \u001b[43msolving_chain\u001b[49m\u001b[38;5;241;43m.\u001b[39;49m\u001b[43mapply\u001b[49m\u001b[43m(\u001b[49m\u001b[38;5;28;43mself\u001b[39;49m\u001b[43m,\u001b[49m\u001b[43m \u001b[49m\u001b[43mverbose\u001b[49m\u001b[43m)\u001b[49m\n\u001b[1;32m    697\u001b[0m safe_to_cache \u001b[38;5;241m=\u001b[39m (\n\u001b[1;32m    698\u001b[0m     \u001b[38;5;28misinstance\u001b[39m(data, \u001b[38;5;28mdict\u001b[39m)\n\u001b[1;32m    699\u001b[0m     \u001b[38;5;129;01mand\u001b[39;00m s\u001b[38;5;241m.\u001b[39mPARAM_PROB \u001b[38;5;129;01min\u001b[39;00m data\n\u001b[1;32m    700\u001b[0m     \u001b[38;5;129;01mand\u001b[39;00m \u001b[38;5;129;01mnot\u001b[39;00m \u001b[38;5;28many\u001b[39m(\u001b[38;5;28misinstance\u001b[39m(reduction, EvalParams)\n\u001b[1;32m    701\u001b[0m                 \u001b[38;5;28;01mfor\u001b[39;00m reduction \u001b[38;5;129;01min\u001b[39;00m solving_chain\u001b[38;5;241m.\u001b[39mreductions)\n\u001b[1;32m    702\u001b[0m )\n\u001b[1;32m    703\u001b[0m \u001b[38;5;28mself\u001b[39m\u001b[38;5;241m.\u001b[39m_compilation_time \u001b[38;5;241m=\u001b[39m time\u001b[38;5;241m.\u001b[39mtime() \u001b[38;5;241m-\u001b[39m start\n",
            "File \u001b[0;32m~/anaconda3/envs/sayan/lib/python3.12/site-packages/cvxpy/reductions/chain.py:76\u001b[0m, in \u001b[0;36mChain.apply\u001b[0;34m(self, problem, verbose)\u001b[0m\n\u001b[1;32m     74\u001b[0m     \u001b[38;5;28;01mif\u001b[39;00m verbose:\n\u001b[1;32m     75\u001b[0m         s\u001b[38;5;241m.\u001b[39mLOGGER\u001b[38;5;241m.\u001b[39minfo(\u001b[38;5;124m'\u001b[39m\u001b[38;5;124mApplying reduction \u001b[39m\u001b[38;5;132;01m%s\u001b[39;00m\u001b[38;5;124m'\u001b[39m, \u001b[38;5;28mtype\u001b[39m(r)\u001b[38;5;241m.\u001b[39m\u001b[38;5;18m__name__\u001b[39m)\n\u001b[0;32m---> 76\u001b[0m     problem, inv \u001b[38;5;241m=\u001b[39m \u001b[43mr\u001b[49m\u001b[38;5;241;43m.\u001b[39;49m\u001b[43mapply\u001b[49m\u001b[43m(\u001b[49m\u001b[43mproblem\u001b[49m\u001b[43m)\u001b[49m\n\u001b[1;32m     77\u001b[0m     inverse_data\u001b[38;5;241m.\u001b[39mappend(inv)\n\u001b[1;32m     78\u001b[0m \u001b[38;5;28;01mreturn\u001b[39;00m problem, inverse_data\n",
            "File \u001b[0;32m~/anaconda3/envs/sayan/lib/python3.12/site-packages/cvxpy/reductions/solvers/conic_solvers/ecos_conif.py:102\u001b[0m, in \u001b[0;36mECOS.apply\u001b[0;34m(self, problem)\u001b[0m\n\u001b[1;32m     94\u001b[0m \u001b[38;5;66;03m# Format constraints\u001b[39;00m\n\u001b[1;32m     95\u001b[0m \u001b[38;5;66;03m#\u001b[39;00m\n\u001b[1;32m     96\u001b[0m \u001b[38;5;66;03m# ECOS requires constraints to be specified in the following order:\u001b[39;00m\n\u001b[0;32m   (...)\u001b[0m\n\u001b[1;32m     99\u001b[0m \u001b[38;5;66;03m# 3. soc\u001b[39;00m\n\u001b[1;32m    100\u001b[0m \u001b[38;5;66;03m# 4. exponential\u001b[39;00m\n\u001b[1;32m    101\u001b[0m \u001b[38;5;28;01mif\u001b[39;00m \u001b[38;5;129;01mnot\u001b[39;00m problem\u001b[38;5;241m.\u001b[39mformatted:\n\u001b[0;32m--> 102\u001b[0m     problem \u001b[38;5;241m=\u001b[39m \u001b[38;5;28;43mself\u001b[39;49m\u001b[38;5;241;43m.\u001b[39;49m\u001b[43mformat_constraints\u001b[49m\u001b[43m(\u001b[49m\u001b[43mproblem\u001b[49m\u001b[43m,\u001b[49m\u001b[43m \u001b[49m\u001b[38;5;28;43mself\u001b[39;49m\u001b[38;5;241;43m.\u001b[39;49m\u001b[43mEXP_CONE_ORDER\u001b[49m\u001b[43m)\u001b[49m\n\u001b[1;32m    103\u001b[0m data[s\u001b[38;5;241m.\u001b[39mPARAM_PROB] \u001b[38;5;241m=\u001b[39m problem\n\u001b[1;32m    104\u001b[0m data[\u001b[38;5;28mself\u001b[39m\u001b[38;5;241m.\u001b[39mDIMS] \u001b[38;5;241m=\u001b[39m problem\u001b[38;5;241m.\u001b[39mcone_dims\n",
            "File \u001b[0;32m~/anaconda3/envs/sayan/lib/python3.12/site-packages/cvxpy/reductions/solvers/conic_solvers/conic_solver.py:264\u001b[0m, in \u001b[0;36mConicSolver.format_constraints\u001b[0;34m(self, problem, exp_cone_order)\u001b[0m\n\u001b[1;32m    260\u001b[0m restruct_mat \u001b[38;5;241m=\u001b[39m as_block_diag_linear_operator(restruct_mat)\n\u001b[1;32m    261\u001b[0m \u001b[38;5;66;03m# this is equivalent to but _much_ faster than:\u001b[39;00m\n\u001b[1;32m    262\u001b[0m \u001b[38;5;66;03m#    restruct_mat_rep = sp.block_diag([restruct_mat]*(problem.x.size + 1))\u001b[39;00m\n\u001b[1;32m    263\u001b[0m \u001b[38;5;66;03m#    restruct_A = restruct_mat_rep * problem.A\u001b[39;00m\n\u001b[0;32m--> 264\u001b[0m unspecified, remainder \u001b[38;5;241m=\u001b[39m \u001b[38;5;28;43mdivmod\u001b[39;49m\u001b[43m(\u001b[49m\u001b[43mproblem\u001b[49m\u001b[38;5;241;43m.\u001b[39;49m\u001b[43mA\u001b[49m\u001b[38;5;241;43m.\u001b[39;49m\u001b[43mshape\u001b[49m\u001b[43m[\u001b[49m\u001b[38;5;241;43m0\u001b[39;49m\u001b[43m]\u001b[49m\u001b[43m \u001b[49m\u001b[38;5;241;43m*\u001b[39;49m\n\u001b[1;32m    265\u001b[0m \u001b[43m                                \u001b[49m\u001b[43mproblem\u001b[49m\u001b[38;5;241;43m.\u001b[39;49m\u001b[43mA\u001b[49m\u001b[38;5;241;43m.\u001b[39;49m\u001b[43mshape\u001b[49m\u001b[43m[\u001b[49m\u001b[38;5;241;43m1\u001b[39;49m\u001b[43m]\u001b[49m\u001b[43m,\u001b[49m\n\u001b[1;32m    266\u001b[0m \u001b[43m                                \u001b[49m\u001b[43mrestruct_mat\u001b[49m\u001b[38;5;241;43m.\u001b[39;49m\u001b[43mshape\u001b[49m\u001b[43m[\u001b[49m\u001b[38;5;241;43m1\u001b[39;49m\u001b[43m]\u001b[49m\u001b[43m)\u001b[49m\n\u001b[1;32m    267\u001b[0m reshaped_A \u001b[38;5;241m=\u001b[39m problem\u001b[38;5;241m.\u001b[39mA\u001b[38;5;241m.\u001b[39mreshape(restruct_mat\u001b[38;5;241m.\u001b[39mshape[\u001b[38;5;241m1\u001b[39m],\n\u001b[1;32m    268\u001b[0m                                unspecified, order\u001b[38;5;241m=\u001b[39m\u001b[38;5;124m'\u001b[39m\u001b[38;5;124mF\u001b[39m\u001b[38;5;124m'\u001b[39m)\u001b[38;5;241m.\u001b[39mtocsr()\n\u001b[1;32m    269\u001b[0m restructured_A \u001b[38;5;241m=\u001b[39m restruct_mat(reshaped_A)\u001b[38;5;241m.\u001b[39mtocoo()\n",
            "\u001b[0;31mOverflowError\u001b[0m: Python integer 28267946952 out of bounds for int32"
          ]
        }
      ],
      "source": [
        "#L1norm objective Linear constraints ||Re(h)|| + ||Im(h)|| <=1 + epsilon. SVM attempt\n",
        "layer_wt = layer\n",
        "s = layer_wt.size()\n",
        "layer_flat = torch.reshape(layer_wt,(s[0]*s[1],s[2]*s[3]))\n",
        "\n",
        "h_0 = layer_flat.detach().numpy()\n",
        "h_0_vec = h_0.ravel()\n",
        "h = cp.Variable((s[0]*s[1],s[2]*s[3]))\n",
        "\n",
        "k = s[3]\n",
        "n = 40\n",
        "F = createFourierMatrix(k,n)\n",
        "F = F.numpy()\n",
        "F_real = F.real\n",
        "F_imag = F.imag\n",
        "h_f_real = h@np.transpose(F_real)\n",
        "h_f_imag = h@np.transpose(F_imag)\n",
        "epsilon = cp.Variable(n*n)\n",
        "mu = 0.01\n",
        "\n",
        "objective = cp.Minimize(cp.norm(h_0_vec - cp.vec(h,order='F'),1)+mu*cp.norm(epsilon,1))\n",
        "constraints=[epsilon>=0]\n",
        "for i in range(n*n):\n",
        "    constraints.append((cp.norm1(h_f_real[:,i])+cp.norm1(h_f_imag[:,i]))<=1+epsilon[i])\n",
        "\n",
        "\n",
        "prob = cp.Problem(objective, constraints)\n",
        "#prob.solve(solver=cp.SCS, gpu=True)\n",
        "try:\n",
        "    prob.solve(solver=cp.ECOS)  # Adjust solver as needed\n",
        "    #prob.solve(solver=cp.SCS, gpu=True)\n",
        "    ans3 = torch.from_numpy(h.value)\n",
        "    ans3 = torch.reshape(ans3,(s[0],s[1],s[2],s[3]))\n",
        "    print(ans3)\n",
        "    print(torch.sum(torch.square(ans3-layer)))\n",
        "    ans_layer = ans3.type(torch.float32)\n",
        "    print(computeLayerLipschitzFourier(ans_layer,40))\n",
        "except cp.error.SolverError as e:\n",
        "    print(e)"
      ]
    },
    {
      "cell_type": "code",
      "execution_count": null,
      "metadata": {
        "colab": {
          "base_uri": "https://localhost:8080/"
        },
        "id": "_eCF_cBiPrvW",
        "outputId": "1ce9e284-5745-4988-f491-02e16039c0c4"
      },
      "outputs": [
        {
          "name": "stdout",
          "output_type": "stream",
          "text": [
            "[[1 2 3]\n",
            " [4 5 6]]\n",
            "[1 2 3 4 5 6]\n"
          ]
        }
      ],
      "source": [
        "v = np.array([[1,2,3],[4,5,6]])\n",
        "print(v)\n",
        "print(v.ravel())"
      ]
    },
    {
      "cell_type": "code",
      "execution_count": 50,
      "metadata": {
        "colab": {
          "base_uri": "https://localhost:8080/"
        },
        "id": "_OHv3p9QQWOF",
        "outputId": "2dc1e487-c355-4f35-a71e-3a6e0778021f"
      },
      "outputs": [
        {
          "name": "stdout",
          "output_type": "stream",
          "text": [
            "tensor(0.0058, dtype=torch.float64)\n",
            "tensor(0.7707)\n"
          ]
        }
      ],
      "source": [
        "#L1 matrix norm objective Linear constraints ||Re(h)|| + ||Im(h)|| <=1 + epsilon. SVM attempt\n",
        "layer_wt = layer\n",
        "s = layer_wt.size()\n",
        "layer_flat = torch.reshape(layer_wt,(s[0]*s[1],s[2]*s[3]))\n",
        "\n",
        "h_0 = layer_flat.detach().numpy()\n",
        "h_0_vec = h_0.ravel()\n",
        "h = cp.Variable((s[0]*s[1],s[2]*s[3]))\n",
        "\n",
        "k = s[3]\n",
        "n = 40\n",
        "F = createFourierMatrix(k,n)\n",
        "F = F.numpy()\n",
        "F_real = F.real\n",
        "F_imag = F.imag\n",
        "h_f_real = h@np.transpose(F_real)\n",
        "h_f_imag = h@np.transpose(F_imag)\n",
        "epsilon = cp.Variable(n*n)\n",
        "mu = 0.01\n",
        "\n",
        "objective = cp.Minimize(cp.norm(h_0 - h,1)+mu*cp.norm(epsilon,1))\n",
        "constraints=[epsilon>=0]\n",
        "for i in range(n*n):\n",
        "    constraints.append((cp.norm1(h_f_real[:,i])+cp.norm1(h_f_imag[:,i]))<=1+epsilon[i])\n",
        "\n",
        "\n",
        "prob = cp.Problem(objective, constraints)\n",
        "#prob.solve(solver=cp.SCS, gpu=True)\n",
        "try:\n",
        "    prob.solve(solver=cp.ECOS)  # Adjust solver as needed\n",
        "    #prob.solve(solver=cp.SCS, gpu=True)\n",
        "    ans3 = torch.from_numpy(h.value)\n",
        "    ans3 = torch.reshape(ans3,(s[0],s[1],s[2],s[3]))\n",
        "    print(torch.sum(torch.square(ans3-layer)))\n",
        "    ans_layer = ans3.type(torch.float32)\n",
        "    print(computeLayerLipschitzFourier(ans_layer,40))\n",
        "except cp.error.SolverError as e:\n",
        "    print(e)"
      ]
    },
    {
      "cell_type": "code",
      "execution_count": null,
      "metadata": {
        "id": "fPa_gVHQ2EOe"
      },
      "outputs": [],
      "source": [
        "def createPermMatCVX(n,k):\n",
        "    p = (k-1)/2\n",
        "    q = (k+1)/2\n",
        "    I = torch.eye(n);\n",
        "    ind1 = torch.arange(0,p)\n",
        "    ind2 = torch.arange(p,k)\n",
        "    ind3 = torch.arange(k,n)\n",
        "    indices = torch.cat((ind2,ind3,ind1))\n",
        "    indices=indices.type(torch.int64)\n",
        "    perm = I[indices];\n",
        "    perm_mat = perm\n",
        "\n",
        "    # Apply padding\n",
        "    #perm_mat_tr = torch.transpose(perm_mat,2,3)\n",
        "    #padded_final = torch.matmul(perm_mat,torch.matmul(padded_wt,perm_mat_tr))\n",
        "    return perm_mat"
      ]
    },
    {
      "cell_type": "code",
      "execution_count": null,
      "metadata": {
        "id": "1J8wY8udVqr3"
      },
      "outputs": [],
      "source": [
        "layer_wt = layer\n",
        "s = layer_wt.size()\n",
        "layer_flat = torch.reshape(layer_wt,(s[0]*s[1],s[2]*s[3]))\n",
        "h_0 = layer_flat.detach().numpy()\n",
        "h = cp.Variable((s[0]*s[1],s[2]*s[3]),complex=True)\n",
        "objective = cp.Minimize(cp.norm(h_0 - h,\"fro\"))\n",
        "k = s[3]\n",
        "n = 40\n",
        "perm_mat = createPermMatCVX(n,k)\n",
        "perm_mat_tr = torch.transpose(perm_mat,0,1)\n",
        "pmat = perm_mat.numpy()\n",
        "pmat_tr = perm_mat_tr.numpy()\n",
        "h_f = cp.Variable((s[0]*s[1],n*n))\n",
        "constraints=[]\n",
        "for i in range(s[0]*s[1]):\n",
        "    h_mat = cp.Variable((n,n),complex=True)\n",
        "    constraints.append(cp.vec(h_mat[:k,:k])==h[i,:])\n",
        "    constraints.append(h_mat[k:,:]==0)\n",
        "    constraints.append(h_mat[:,k:]==0)\n",
        "    h_p = pmat@(h_mat@pmat_tr)\n",
        "    h_f_row = np.fft.fft2(h_p)\n",
        "    h_f[i,:] = h_f_row.flatten()\n",
        "\n",
        "for i in range(n*n):\n",
        "    mat = cp.reshape(h_f[:,i],(s[0],s[1]))\n",
        "    constraints.append(cp.norm1(mat)<=1)\n",
        "    constraints.append(cp.norm_inf(mat)<=1)\n",
        "\n",
        "prob = cp.Problem(objective, constraints)\n",
        "#prob.solve(solver=cp.SCS, gpu=True)\n",
        "prob.solve(solver=cp.ECOS,verbose=True)\n",
        "\n",
        "h.value\n"
      ]
    },
    {
      "cell_type": "code",
      "execution_count": null,
      "metadata": {
        "id": "qI8J9rPLybmI"
      },
      "outputs": [],
      "source": [
        "#LMI\n",
        "layer_wt = layer\n",
        "s = layer_wt.size()\n",
        "layer_flat = torch.reshape(layer_wt,(s[0]*s[1],s[2]*s[3]))\n",
        "\n",
        "h_0 = layer_flat.detach().numpy()\n",
        "\n",
        "h = cp.Variable((s[0]*s[1],s[2]*s[3]),complex=True)\n",
        "objective = cp.Minimize(cp.norm(h_0 - h,\"fro\"))\n",
        "\n",
        "I_n = np.eye(s[0])\n",
        "I_m = np.eye(s[1])\n",
        "\n",
        "k = s[3]\n",
        "n = 40\n",
        "F = createFourierMatrix(k,n)\n",
        "F = F.numpy()\n",
        "h_f = h@np.transpose(F)\n",
        "\n",
        "constraints=[]\n",
        "for i in range(n*n):\n",
        "    mat = cp.reshape(h_f[:,i],(s[0],s[1]))\n",
        "    LMI = cp.bmat([[I_n, mat], [mat.T, I_m]])\n",
        "    constraints.append(LMI>>0)\n",
        "\n",
        "prob = cp.Problem(objective, constraints)\n",
        "#prob.solve(solver=cp.SCS, gpu=True,use_indirect=True)\n",
        "#prob.solve(solver=cp.ECOS)\n",
        "prob.solve()\n",
        "\n",
        "ans1 = torch.from_numpy(h.value)\n",
        "ans1 = torch.reshape(ans1,(s[0],s[1],s[2],s[3]))\n",
        "print(torch.sum(torch.square(ans1-layer)))\n",
        "ans_layer = ans1.type(torch.float32)\n",
        "print(computeLayerLipschitzFourier(ans_layer,40))\n"
      ]
    },
    {
      "cell_type": "code",
      "execution_count": null,
      "metadata": {
        "colab": {
          "base_uri": "https://localhost:8080/"
        },
        "id": "4-eUT42N_ii5",
        "outputId": "c1953486-28e9-4c53-9768-366aaceec9d8"
      },
      "outputs": [
        {
          "name": "stderr",
          "output_type": "stream",
          "text": [
            "/usr/local/lib/python3.10/dist-packages/cvxpy/interface/numpy_interface/ndarray_interface.py:53: ComplexWarning: Casting complex values to real discards the imaginary part\n",
            "  return result.astype(numpy.float64)\n"
          ]
        },
        {
          "name": "stdout",
          "output_type": "stream",
          "text": [
            "tensor(103.0941+0.j, dtype=torch.complex128)\n"
          ]
        },
        {
          "data": {
            "text/plain": [
              "tensor(1.4097)"
            ]
          },
          "execution_count": 12,
          "metadata": {},
          "output_type": "execute_result"
        }
      ],
      "source": [
        "#LMI\n",
        "layer_wt = layer\n",
        "s = layer_wt.size()\n",
        "layer_flat = torch.reshape(layer_wt,(s[0]*s[1],s[2]*s[3]))\n",
        "\n",
        "h_0 = layer_flat.detach().numpy()\n",
        "h_0_vec = h_0.ravel()\n",
        "\n",
        "h = cp.Variable((s[0]*s[1],s[2]*s[3]),complex=True)\n",
        "\n",
        "objective = cp.Minimize(cp.norm(h_0_vec - cp.vec(h,order='F'),1))\n",
        "\n",
        "I_n = np.eye(s[0])\n",
        "I_m = np.eye(s[1])\n",
        "\n",
        "k = s[3]\n",
        "n = 40\n",
        "F = createFourierMatrix(k,n)\n",
        "F = F.numpy()\n",
        "h_f = h@np.transpose(F)\n",
        "\n",
        "constraints=[]\n",
        "for i in range(n*n):\n",
        "    mat = cp.reshape(h_f[:,i],(s[0],s[1]))\n",
        "    LMI = cp.bmat([[I_n, mat], [mat.T, I_m]])\n",
        "    constraints.append(LMI>>0)\n",
        "\n",
        "prob = cp.Problem(objective, constraints)\n",
        "#prob.solve(solver=cp.SCS, gpu=True,use_indirect=True)\n",
        "#prob.solve(solver=cp.ECOS)\n",
        "prob.solve()\n",
        "\n",
        "ans1 = torch.from_numpy(h.value)\n",
        "ans1 = torch.reshape(ans1,(s[0],s[1],s[2],s[3]))\n",
        "print(torch.sum(torch.square(ans1-layer)))\n",
        "ans_layer = ans1.type(torch.float32)\n",
        "computeLayerLipschitzFourier(ans_layer,40)\n"
      ]
    },
    {
      "cell_type": "code",
      "execution_count": 16,
      "metadata": {
        "colab": {
          "base_uri": "https://localhost:8080/"
        },
        "id": "_kXnodSpHhBF",
        "outputId": "39351fc5-1af4-4971-8e47-0900df44ecb3"
      },
      "outputs": [
        {
          "name": "stdout",
          "output_type": "stream",
          "text": [
            "tensor(100.4762, dtype=torch.float64)\n"
          ]
        },
        {
          "data": {
            "text/plain": [
              "tensor(1.0000)"
            ]
          },
          "execution_count": 16,
          "metadata": {},
          "output_type": "execute_result"
        }
      ],
      "source": [
        "#LMI\n",
        "layer_wt = layer\n",
        "s = layer_wt.size()\n",
        "layer_flat = torch.reshape(layer_wt,(s[0]*s[1],s[2]*s[3]))\n",
        "\n",
        "h_0 = layer_flat.detach().numpy()\n",
        "h_0_vec = h_0.ravel()\n",
        "\n",
        "h = cp.Variable((s[0]*s[1],s[2]*s[3]))\n",
        "\n",
        "objective = cp.Minimize(cp.norm(h_0_vec - cp.vec(h,order='F'),1))\n",
        "\n",
        "I_n = np.eye(s[0]*2)\n",
        "I_m = np.eye(s[1]*2)\n",
        "\n",
        "k = s[3]\n",
        "n = 40\n",
        "F = createFourierMatrix(k,n)\n",
        "F = F.numpy()\n",
        "F_real = F.real\n",
        "F_imag = F.imag\n",
        "h_f_real = h@np.transpose(F_real)\n",
        "h_f_imag = h@np.transpose(F_imag)\n",
        "\n",
        "constraints=[]\n",
        "for i in range(n*n):\n",
        "    mat_r = cp.reshape(h_f_real[:,i],(s[0],s[1]))\n",
        "    mat_i = cp.reshape(h_f_imag[:,i],(s[0],s[1]))\n",
        "    mat = cp.bmat([[mat_r, -mat_i], [mat_i, mat_r]])\n",
        "    LMI = cp.bmat([[I_n, mat], [mat.T, I_m]])\n",
        "    constraints.append(LMI>>0)\n",
        "\n",
        "prob = cp.Problem(objective, constraints)\n",
        "#prob.solve(solver=cp.SCS, gpu=True,use_indirect=True)\n",
        "#prob.solve(solver=cp.ECOS)\n",
        "prob.solve(solver = cp.SCS)\n",
        "\n",
        "ans1 = torch.from_numpy(h.value)\n",
        "ans1 = torch.reshape(ans1,(s[0],s[1],s[2],s[3]))\n",
        "print(torch.sum(torch.square(ans1-layer)))\n",
        "ans_layer = ans1.type(torch.float32)\n",
        "computeLayerLipschitzFourier(ans_layer,40)\n"
      ]
    },
    {
      "cell_type": "code",
      "execution_count": null,
      "metadata": {
        "colab": {
          "base_uri": "https://localhost:8080/"
        },
        "id": "nRwicQORNvL2",
        "outputId": "ced75870-efed-4f6e-e5bb-b1a4ba9dbd24"
      },
      "outputs": [
        {
          "name": "stdout",
          "output_type": "stream",
          "text": [
            "['CVXOPT', 'ECOS', 'ECOS_BB', 'GLPK', 'GLPK_MI', 'OSQP', 'SCIPY', 'SCS']\n"
          ]
        }
      ],
      "source": [
        "print(cp.installed_solvers())"
      ]
    },
    {
      "cell_type": "code",
      "execution_count": null,
      "metadata": {
        "id": "y9PxufSHepZh"
      },
      "outputs": [],
      "source": [
        "import scipy\n",
        "from scipy.optimize import linprog"
      ]
    },
    {
      "cell_type": "code",
      "execution_count": null,
      "metadata": {
        "colab": {
          "base_uri": "https://localhost:8080/"
        },
        "id": "tjGys5Emfkv_",
        "outputId": "b805cbe0-b7d0-4f5f-b236-a2eb649aae78"
      },
      "outputs": [
        {
          "data": {
            "text/plain": [
              "array([1., 1., 1.])"
            ]
          },
          "execution_count": 9,
          "metadata": {},
          "output_type": "execute_result"
        }
      ],
      "source": [
        "np.ones(3)"
      ]
    },
    {
      "cell_type": "code",
      "execution_count": null,
      "metadata": {
        "id": "jhqmzuldMV7u"
      },
      "outputs": [],
      "source": [
        "import numpy.matlib"
      ]
    },
    {
      "cell_type": "code",
      "execution_count": null,
      "metadata": {
        "colab": {
          "base_uri": "https://localhost:8080/"
        },
        "id": "mlzjL-B7en6q",
        "outputId": "6b4c214c-5422-4c97-d7bc-1fc7f0fac4b6"
      },
      "outputs": [
        {
          "name": "stdout",
          "output_type": "stream",
          "text": [
            "(1600, 115200)\n"
          ]
        }
      ],
      "source": [
        "layer_wt = layer\n",
        "s = layer_wt.size()\n",
        "layer_flat = torch.reshape(layer_wt,(s[0]*s[1],s[2]*s[3]))\n",
        "\n",
        "k = s[3]\n",
        "n = 40\n",
        "\n",
        "d_h = s[0]*s[1]*k*k\n",
        "d_t = s[0]*s[1]*n*n*2\n",
        "\n",
        "h_0 = layer_flat.detach().numpy()\n",
        "h_0_vec = h_0.ravel()\n",
        "c = np.hstack([np.zeros(d_h), np.ones(d_h),np.ones(d_t)])\n",
        "\n",
        "F = createFourierMatrix(k,n)\n",
        "F = F.numpy()\n",
        "F_real = F.real\n",
        "F_imag = F.imag\n",
        "F = np.vstack([F_real,F_imag])\n",
        "F_mat = np.zeros((d_t,d_h))\n",
        "j=0\n",
        "for i in range(0,d_t,2*n*n):\n",
        "    F_mat[i:i+2*n*n,j:j+k*k] = F\n",
        "    j+=k*k\n",
        "\n",
        "A = np.zeros((n*n,0))\n",
        "I_n2 = np.eye(n*n)\n",
        "A = np.matlib.repmat(I_n2,1,2*s[0]*s[1])\n",
        "print(A.shape,flush=True)\n",
        "\n",
        "I_h = np.eye(d_h)\n",
        "I_t = np.eye(d_t)\n",
        "\n",
        "A_ub = np.bmat([[I_h, -I_h, np.zeros((d_t,d_t))],\n",
        "                [-I_h, -I_h, np.zeros((d_t,d_t))],\n",
        "                [F_mat, np.zeros((d_h,d_h)), -I_t],\n",
        "                [-F_mat, np.zeros((d_h,d_h)), -I_t],\n",
        "                [np.zeros((d_h,d_h)), np.zeros((d_h,d_h)), A]])\n",
        "\n",
        "b_ub = np.vstack([h_0_vec,-h_0_vec,np.zeros(d_t),np.zeros(d_t),np.ones(n*n)])\n",
        "\n",
        "print(F_mat.shape)\n",
        "print(A.shape)\n",
        "print(A_ub.shape)\n",
        "print(b_ub.shape)\n",
        "#res = linprog(c, A_ub=A_ub, b_ub=b_ub, method='interior-point')\n"
      ]
    },
    {
      "cell_type": "code",
      "execution_count": 66,
      "metadata": {
        "id": "Y-0ZCXfbRa-T"
      },
      "outputs": [],
      "source": [
        "def createVertices(dim):\n",
        "    vertices = np.array([]).reshape(dim,0)\n",
        "    zero_basis = np.zeros((dim,1))\n",
        "    print(\"Ono\",flush=True)\n",
        "    I_dim = np.eye(dim);\n",
        "    vertices = np.hstack((I_dim,-I_dim))\n",
        "    return vertices\n"
      ]
    },
    {
      "cell_type": "code",
      "execution_count": 67,
      "metadata": {
        "colab": {
          "base_uri": "https://localhost:8080/"
        },
        "id": "qtlUbTpsRddP",
        "outputId": "e383eac1-13a5-4fa4-cc94-9788d7fe294b"
      },
      "outputs": [
        {
          "name": "stdout",
          "output_type": "stream",
          "text": [
            "Heh\n",
            "Hehe\n",
            "Hey\n",
            "Ono\n",
            "meow\n",
            "boooop\n",
            "tensor(98.6380, dtype=torch.float64)\n",
            "tensor(0.5990)\n"
          ]
        }
      ],
      "source": [
        "layer_wt = layer\n",
        "s = layer_wt.size()\n",
        "print(\"Heh\",flush=True)\n",
        "layer_flat = torch.reshape(layer_wt,(s[0]*s[1],s[2]*s[3]))\n",
        "\n",
        "h_0 = layer_flat.detach().numpy()\n",
        "h_0_vec = h_0.ravel()\n",
        "h = cp.Variable((s[0]*s[1],s[2]*s[3]))\n",
        "print(\"Hehe\",flush=True)\n",
        "objective = cp.Minimize(cp.norm(h_0 - h,\"fro\"))\n",
        "#objective = cp.Minimize(cp.norm(h_0_vec - cp.vec(h,order='F'),1))\n",
        "k = s[3]\n",
        "n = 40\n",
        "print(\"Hey\",flush=True)\n",
        "pts = 2*s[0]*s[1]*2\n",
        "vertices = createVertices(2*s[0]*s[1])\n",
        "\n",
        "print(\"meow\",flush=True)\n",
        "F = createFourierMatrix(k,n)\n",
        "F = F.numpy()\n",
        "F_real = F.real\n",
        "F_imag = F.imag\n",
        "h_f_real = h@np.transpose(F_real)\n",
        "h_f_imag = h@np.transpose(F_imag)\n",
        "h_f = cp.vstack((h_f_real,h_f_imag,np.ones((1,n*n))))\n",
        "\n",
        "l= cp.Variable((pts,n*n))\n",
        "V = cp.vstack((vertices,np.ones((1,pts))))\n",
        "\n",
        "constraints=[V@l==h_f,l>=0]\n",
        "print(\"boooop\",flush=True)\n",
        "\n",
        "prob = cp.Problem(objective, constraints)\n",
        "try:\n",
        "    prob.solve()  # Adjust solver as needed\n",
        "    ans3 = torch.from_numpy(h.value)\n",
        "    ans3 = torch.reshape(ans3,(s[0],s[1],s[2],s[3]))\n",
        "    print(torch.sum(torch.square(ans3-layer)))\n",
        "    ans_layer = ans3.type(torch.float32)\n",
        "    print(computeLayerLipschitzFourier(ans_layer,40))\n",
        "except cp.error.SolverError as e:\n",
        "    print(e)"
      ]
    },
    {
      "cell_type": "code",
      "execution_count": 68,
      "metadata": {
        "colab": {
          "base_uri": "https://localhost:8080/"
        },
        "id": "qjIM0eU5RpgG",
        "outputId": "12a4ee2d-d231-4ca3-f96d-e030f6accbb4"
      },
      "outputs": [
        {
          "name": "stdout",
          "output_type": "stream",
          "text": [
            "Heh\n",
            "Hehe\n",
            "Hey\n",
            "Ono\n",
            "meow\n",
            "boooop\n",
            "tensor(100.3340, dtype=torch.float64)\n",
            "tensor(0.1667)\n"
          ]
        }
      ],
      "source": [
        "layer_wt = layer\n",
        "s = layer_wt.size()\n",
        "print(\"Heh\",flush=True)\n",
        "layer_flat = torch.reshape(layer_wt,(s[0]*s[1],s[2]*s[3]))\n",
        "\n",
        "h_0 = layer_flat.detach().numpy()\n",
        "h_0_vec = h_0.ravel()\n",
        "h = cp.Variable((s[0]*s[1],s[2]*s[3]))\n",
        "print(\"Hehe\",flush=True)\n",
        "#objective = cp.Minimize(cp.norm(h_0 - h,\"fro\"))\n",
        "objective = cp.Minimize(cp.norm(h_0_vec - cp.vec(h,order='F'),1))\n",
        "k = s[3]\n",
        "n = 40\n",
        "print(\"Hey\",flush=True)\n",
        "pts = 2*s[0]*s[1]*2\n",
        "vertices = createVertices(2*s[0]*s[1])\n",
        "\n",
        "print(\"meow\",flush=True)\n",
        "F = createFourierMatrix(k,n)\n",
        "F = F.numpy()\n",
        "F_real = F.real\n",
        "F_imag = F.imag\n",
        "h_f_real = h@np.transpose(F_real)\n",
        "h_f_imag = h@np.transpose(F_imag)\n",
        "h_f = cp.vstack((h_f_real,h_f_imag,np.ones((1,n*n))))\n",
        "\n",
        "l= cp.Variable((pts,n*n))\n",
        "V = cp.vstack((vertices,np.ones((1,pts))))\n",
        "\n",
        "constraints=[V@l==h_f,l>=0]\n",
        "print(\"boooop\",flush=True)\n",
        "\n",
        "prob = cp.Problem(objective, constraints)\n",
        "try:\n",
        "    prob.solve()  # Adjust solver as needed\n",
        "    ans3 = torch.from_numpy(h.value)\n",
        "    ans3 = torch.reshape(ans3,(s[0],s[1],s[2],s[3]))\n",
        "    print(torch.sum(torch.square(ans3-layer)))\n",
        "    ans_layer = ans3.type(torch.float32)\n",
        "    print(computeLayerLipschitzFourier(ans_layer,40))\n",
        "except cp.error.SolverError as e:\n",
        "    print(e)"
      ]
    },
    {
      "cell_type": "code",
      "execution_count": 69,
      "metadata": {
        "id": "yh9LgiG6KYAH"
      },
      "outputs": [],
      "source": [
        "def createVerticesL2Norm(dim):\n",
        "    vertices = np.array([]).reshape(dim,0)\n",
        "    zero_basis = np.zeros((dim,1))\n",
        "    print(\"Ono\",flush=True)\n",
        "    I_dim = np.eye(dim);\n",
        "    vertices = np.hstack((I_dim,-I_dim))\n",
        "    vertices = np.vstack((vertices,vertices))\n",
        "    a = math.floor(3*dim/2)\n",
        "    b = 2*dim\n",
        "    vertices[a:b,:] = -vertices[a:b,:]\n",
        "    return vertices"
      ]
    },
    {
      "cell_type": "code",
      "execution_count": null,
      "metadata": {
        "id": "_IwJQsrdOKZF"
      },
      "outputs": [],
      "source": [
        "def createMoreVerticesL2Norm(dim):\n",
        "    vertices = np.array([]).reshape(dim,0)\n",
        "    zero_basis = np.zeros((dim,1))\n",
        "    print(\"Ono\",flush=True)\n",
        "    I_dim = np.eye(dim);\n",
        "    vertices = np.hstack((I_dim,-I_dim))\n",
        "    all_one = np.ones((dim,1))/math.sqrt(2*dim)\n",
        "    vertices = np.hstack((vertices,all_one))\n",
        "    for i in range(dim):\n",
        "        all_one[i] = -all_one[i]\n",
        "        vertices = np.hstack((vertices,all_one))\n",
        "\n",
        "    vertices = np.vstack((vertices,vertices))\n",
        "    a = math.floor(3*dim/2)\n",
        "    b = 2*dim\n",
        "    vertices[a:b,:] = -vertices[a:b,:]\n",
        "    return vertices\n"
      ]
    },
    {
      "cell_type": "code",
      "execution_count": null,
      "metadata": {
        "colab": {
          "base_uri": "https://localhost:8080/"
        },
        "id": "FLjWg49GK9Lt",
        "outputId": "1dbce753-6557-4785-cfb1-df831179b494"
      },
      "outputs": [
        {
          "name": "stdout",
          "output_type": "stream",
          "text": [
            "Ono\n",
            "3\n",
            "4\n"
          ]
        },
        {
          "data": {
            "text/plain": [
              "array([[ 1.,  0., -1., -0.],\n",
              "       [ 0.,  1., -0., -1.],\n",
              "       [ 1.,  0., -1., -0.],\n",
              "       [-0., -1.,  0.,  1.]])"
            ]
          },
          "execution_count": 28,
          "metadata": {},
          "output_type": "execute_result"
        }
      ],
      "source": [
        "createVerticesL2Norm(2)"
      ]
    },
    {
      "cell_type": "code",
      "execution_count": 71,
      "metadata": {
        "colab": {
          "base_uri": "https://localhost:8080/"
        },
        "id": "fok9EYSz3wvO",
        "outputId": "45f2b4b9-c7ca-4c45-f04e-41d0f8896b25"
      },
      "outputs": [
        {
          "name": "stdout",
          "output_type": "stream",
          "text": [
            "Heh\n",
            "Hehe\n",
            "Hey\n",
            "Ono\n",
            "meow\n",
            "boooop\n",
            "tensor(100.4394, dtype=torch.float64)\n",
            "tensor(0.3595)\n"
          ]
        }
      ],
      "source": [
        "layer_wt = layer\n",
        "s = layer_wt.size()\n",
        "print(\"Heh\",flush=True)\n",
        "layer_flat = torch.reshape(layer_wt,(s[0]*s[1],s[2]*s[3]))\n",
        "\n",
        "h_0 = layer_flat.detach().numpy()\n",
        "h_0_vec = h_0.ravel()\n",
        "h = cp.Variable((s[0]*s[1],s[2]*s[3]))\n",
        "print(\"Hehe\",flush=True)\n",
        "#objective = cp.Minimize(cp.norm(h_0 - h,\"fro\"))\n",
        "objective = cp.Minimize(cp.norm(h_0_vec - cp.vec(h,order='F'),1))\n",
        "k = s[3]\n",
        "n = 40\n",
        "print(\"Hey\",flush=True)\n",
        "\n",
        "d = 4*s[0]*s[1]\n",
        "pts = d\n",
        "vertices = createVerticesL2Norm(math.floor(d/2))\n",
        "\n",
        "print(\"meow\",flush=True)\n",
        "F = createFourierMatrix(k,n)\n",
        "F = F.numpy()\n",
        "F_real = F.real\n",
        "F_imag = F.imag\n",
        "h_f_real = h@np.transpose(F_real)\n",
        "h_f_imag = h@np.transpose(F_imag)\n",
        "h_f = cp.vstack((h_f_real,h_f_imag,h_f_real,-h_f_imag,np.ones((1,n*n))))\n",
        "l= cp.Variable((pts,n*n))\n",
        "V = cp.vstack((vertices,np.ones((1,pts))))\n",
        "\n",
        "constraints=[V@l==h_f,l>=0]\n",
        "print(\"boooop\",flush=True)\n",
        "\n",
        "prob = cp.Problem(objective, constraints)\n",
        "try:\n",
        "    prob.solve(solver='SCS')  # Adjust solver as needed\n",
        "    ans3 = torch.from_numpy(h.value)\n",
        "    ans3 = torch.reshape(ans3,(s[0],s[1],s[2],s[3]))\n",
        "    print(torch.sum(torch.square(ans3-layer)))\n",
        "    ans_layer = ans3.type(torch.float32)\n",
        "    print(computeLayerLipschitzFourier(ans_layer,40))\n",
        "except cp.error.SolverError as e:\n",
        "    print(e)"
      ]
    },
    {
      "cell_type": "code",
      "execution_count": null,
      "metadata": {
        "colab": {
          "background_save": true,
          "base_uri": "https://localhost:8080/"
        },
        "id": "lTcHuCzCxIFf",
        "outputId": "78a5392b-0898-47f2-a480-3f50773c8124"
      },
      "outputs": [
        {
          "name": "stdout",
          "output_type": "stream",
          "text": [
            "Heh\n",
            "Hehe\n",
            "Hey\n",
            "meow\n"
          ]
        },
        {
          "name": "stderr",
          "output_type": "stream",
          "text": [
            "/usr/local/lib/python3.10/dist-packages/cvxpy/interface/numpy_interface/ndarray_interface.py:53: ComplexWarning: Casting complex values to real discards the imaginary part\n",
            "  return result.astype(numpy.float64)\n"
          ]
        },
        {
          "name": "stdout",
          "output_type": "stream",
          "text": [
            "boooop\n",
            "tensor(104.7771+4.2153e-16j, dtype=torch.complex128)\n",
            "tensor(1.1058)\n"
          ]
        },
        {
          "name": "stderr",
          "output_type": "stream",
          "text": [
            "<ipython-input-11-63c850361179>:34: UserWarning: Casting complex values to real discards the imaginary part (Triggered internally at ../aten/src/ATen/native/Copy.cpp:300.)\n",
            "  ans_layer = ans3.type(torch.float32)\n"
          ]
        }
      ],
      "source": [
        "\n",
        "layer_wt = layer\n",
        "s = layer_wt.size()\n",
        "print(\"Heh\",flush=True)\n",
        "layer_flat = torch.reshape(layer_wt,(s[0]*s[1],s[2]*s[3]))\n",
        "\n",
        "h_0 = layer_flat.detach().numpy()\n",
        "h_0_vec = h_0.ravel()\n",
        "h = cp.Variable((s[0]*s[1],s[2]*s[3]),complex=True)\n",
        "print(\"Hehe\",flush=True)\n",
        "#objective = cp.Minimize(cp.norm(h_0 - h,\"fro\"))\n",
        "objective = cp.Minimize(cp.norm(h_0_vec - cp.vec(h,order='F'),1))\n",
        "k = s[3]\n",
        "n = 40\n",
        "print(\"Hey\",flush=True)\n",
        "\n",
        "print(\"meow\",flush=True)\n",
        "F = createFourierMatrix(k,n)\n",
        "F = F.numpy()\n",
        "h_f = h@np.real(np.transpose(F)) + 1j*(h@np.imag(np.transpose(F)))\n",
        "\n",
        "constraints=[]\n",
        "for i in range(n*n):\n",
        "    mat = cp.reshape(h_f[:,i],(s[0],s[1]))\n",
        "    constraints.append(cp.norm2(mat)<=1)\n",
        "\n",
        "print(\"boooop\",flush=True)\n",
        "\n",
        "prob = cp.Problem(objective, constraints)\n",
        "try:\n",
        "    prob.solve(solver='SCS')  # Adjust solver as needed\n",
        "    ans3 = torch.from_numpy(h.value)\n",
        "    ans3 = torch.reshape(ans3,(s[0],s[1],s[2],s[3]))\n",
        "    print(torch.sum(torch.square(ans3-layer)))\n",
        "    ans_layer = ans3.type(torch.float32)\n",
        "    print(computeLayerLipschitzFourier(ans_layer,40))\n",
        "except cp.error.SolverError as e:\n",
        "    print(e)"
      ]
    },
    {
      "cell_type": "code",
      "execution_count": null,
      "metadata": {
        "id": "lwkB_uxEf5V7"
      },
      "outputs": [],
      "source": [
        "import numpy as np\n",
        "import cmath"
      ]
    },
    {
      "cell_type": "code",
      "execution_count": 10,
      "metadata": {
        "id": "r2-X3b6FfXGG"
      },
      "outputs": [],
      "source": [
        "def createComplexVerticesL2Norm(dim):\n",
        "    vertices = np.array([]).reshape(dim,0)\n",
        "    vertices = vertices.astype('complex64')\n",
        "    zero_basis = np.zeros((dim,1))\n",
        "    print(\"Ono\",flush=True)\n",
        "    I_dim = np.eye(dim);\n",
        "    vertices = np.hstack((I_dim,-I_dim,1j*I_dim,-1j*I_dim))\n",
        "    return vertices"
      ]
    },
    {
      "cell_type": "code",
      "execution_count": null,
      "metadata": {
        "colab": {
          "base_uri": "https://localhost:8080/"
        },
        "id": "DjML4jQEf8_c",
        "outputId": "82631489-3d34-4399-e4a5-bf14d4b68d91"
      },
      "outputs": [
        {
          "name": "stdout",
          "output_type": "stream",
          "text": [
            "Ono\n"
          ]
        },
        {
          "data": {
            "text/plain": [
              "array([[ 1.+0.j,  0.+0.j, -1.+0.j, -0.+0.j,  0.+1.j,  0.+0.j,  0.-1.j,\n",
              "         0.-0.j],\n",
              "       [ 0.+0.j,  1.+0.j, -0.+0.j, -1.+0.j,  0.+0.j,  0.+1.j,  0.-0.j,\n",
              "         0.-1.j]])"
            ]
          },
          "execution_count": 8,
          "metadata": {},
          "output_type": "execute_result"
        }
      ],
      "source": [
        "createComplexVerticesL2Norm(2)"
      ]
    },
    {
      "cell_type": "code",
      "execution_count": 18,
      "metadata": {
        "colab": {
          "base_uri": "https://localhost:8080/"
        },
        "id": "6StFDklngv26",
        "outputId": "87bcd7eb-0c17-49eb-b3fb-7b0c8f50838c"
      },
      "outputs": [
        {
          "name": "stdout",
          "output_type": "stream",
          "text": [
            "Heh\n",
            "Hehe\n",
            "Hey\n",
            "Ono\n",
            "meow\n",
            "boooop\n"
          ]
        },
        {
          "ename": "OverflowError",
          "evalue": "Python integer 80815051650 out of bounds for int32",
          "output_type": "error",
          "traceback": [
            "\u001b[0;31m---------------------------------------------------------------------------\u001b[0m",
            "\u001b[0;31mOverflowError\u001b[0m                             Traceback (most recent call last)",
            "Cell \u001b[0;32mIn[18], line 34\u001b[0m\n\u001b[1;32m     32\u001b[0m prob \u001b[38;5;241m=\u001b[39m cp\u001b[38;5;241m.\u001b[39mProblem(objective, constraints)\n\u001b[1;32m     33\u001b[0m \u001b[38;5;28;01mtry\u001b[39;00m:\n\u001b[0;32m---> 34\u001b[0m     \u001b[43mprob\u001b[49m\u001b[38;5;241;43m.\u001b[39;49m\u001b[43msolve\u001b[49m\u001b[43m(\u001b[49m\u001b[43mcanon_backend\u001b[49m\u001b[38;5;241;43m=\u001b[39;49m\u001b[43mcp\u001b[49m\u001b[38;5;241;43m.\u001b[39;49m\u001b[43mSCIPY_CANON_BACKEND\u001b[49m\u001b[43m,\u001b[49m\u001b[43msolver\u001b[49m\u001b[43m \u001b[49m\u001b[38;5;241;43m=\u001b[39;49m\u001b[43m \u001b[49m\u001b[38;5;124;43m'\u001b[39;49m\u001b[38;5;124;43mSCS\u001b[39;49m\u001b[38;5;124;43m'\u001b[39;49m\u001b[43m,\u001b[49m\u001b[43meps\u001b[49m\u001b[38;5;241;43m=\u001b[39;49m\u001b[38;5;241;43m1e-3\u001b[39;49m\u001b[43m)\u001b[49m  \u001b[38;5;66;03m# Adjust solver as needed\u001b[39;00m\n\u001b[1;32m     35\u001b[0m     ans3 \u001b[38;5;241m=\u001b[39m torch\u001b[38;5;241m.\u001b[39mfrom_numpy(h\u001b[38;5;241m.\u001b[39mvalue)\n\u001b[1;32m     36\u001b[0m     ans3 \u001b[38;5;241m=\u001b[39m torch\u001b[38;5;241m.\u001b[39mreshape(ans3,(s[\u001b[38;5;241m0\u001b[39m],s[\u001b[38;5;241m1\u001b[39m],s[\u001b[38;5;241m2\u001b[39m],s[\u001b[38;5;241m3\u001b[39m]))\n",
            "File \u001b[0;32m~/anaconda3/envs/sayan/lib/python3.12/site-packages/cvxpy/problems/problem.py:503\u001b[0m, in \u001b[0;36mProblem.solve\u001b[0;34m(self, *args, **kwargs)\u001b[0m\n\u001b[1;32m    501\u001b[0m \u001b[38;5;28;01melse\u001b[39;00m:\n\u001b[1;32m    502\u001b[0m     solve_func \u001b[38;5;241m=\u001b[39m Problem\u001b[38;5;241m.\u001b[39m_solve\n\u001b[0;32m--> 503\u001b[0m \u001b[38;5;28;01mreturn\u001b[39;00m \u001b[43msolve_func\u001b[49m\u001b[43m(\u001b[49m\u001b[38;5;28;43mself\u001b[39;49m\u001b[43m,\u001b[49m\u001b[43m \u001b[49m\u001b[38;5;241;43m*\u001b[39;49m\u001b[43margs\u001b[49m\u001b[43m,\u001b[49m\u001b[43m \u001b[49m\u001b[38;5;241;43m*\u001b[39;49m\u001b[38;5;241;43m*\u001b[39;49m\u001b[43mkwargs\u001b[49m\u001b[43m)\u001b[49m\n",
            "File \u001b[0;32m~/anaconda3/envs/sayan/lib/python3.12/site-packages/cvxpy/problems/problem.py:1073\u001b[0m, in \u001b[0;36mProblem._solve\u001b[0;34m(self, solver, warm_start, verbose, gp, qcp, requires_grad, enforce_dpp, ignore_dpp, canon_backend, **kwargs)\u001b[0m\n\u001b[1;32m   1070\u001b[0m         \u001b[38;5;28mself\u001b[39m\u001b[38;5;241m.\u001b[39munpack(chain\u001b[38;5;241m.\u001b[39mretrieve(soln))\n\u001b[1;32m   1071\u001b[0m         \u001b[38;5;28;01mreturn\u001b[39;00m \u001b[38;5;28mself\u001b[39m\u001b[38;5;241m.\u001b[39mvalue\n\u001b[0;32m-> 1073\u001b[0m data, solving_chain, inverse_data \u001b[38;5;241m=\u001b[39m \u001b[38;5;28;43mself\u001b[39;49m\u001b[38;5;241;43m.\u001b[39;49m\u001b[43mget_problem_data\u001b[49m\u001b[43m(\u001b[49m\n\u001b[1;32m   1074\u001b[0m \u001b[43m    \u001b[49m\u001b[43msolver\u001b[49m\u001b[43m,\u001b[49m\u001b[43m \u001b[49m\u001b[43mgp\u001b[49m\u001b[43m,\u001b[49m\u001b[43m \u001b[49m\u001b[43menforce_dpp\u001b[49m\u001b[43m,\u001b[49m\u001b[43m \u001b[49m\u001b[43mignore_dpp\u001b[49m\u001b[43m,\u001b[49m\u001b[43m \u001b[49m\u001b[43mverbose\u001b[49m\u001b[43m,\u001b[49m\u001b[43m \u001b[49m\u001b[43mcanon_backend\u001b[49m\u001b[43m,\u001b[49m\u001b[43m \u001b[49m\u001b[43mkwargs\u001b[49m\n\u001b[1;32m   1075\u001b[0m \u001b[43m\u001b[49m\u001b[43m)\u001b[49m\n\u001b[1;32m   1077\u001b[0m \u001b[38;5;28;01mif\u001b[39;00m verbose:\n\u001b[1;32m   1078\u001b[0m     \u001b[38;5;28mprint\u001b[39m(_NUM_SOLVER_STR)\n",
            "File \u001b[0;32m~/anaconda3/envs/sayan/lib/python3.12/site-packages/cvxpy/problems/problem.py:696\u001b[0m, in \u001b[0;36mProblem.get_problem_data\u001b[0;34m(self, solver, gp, enforce_dpp, ignore_dpp, verbose, canon_backend, solver_opts)\u001b[0m\n\u001b[1;32m    693\u001b[0m     s\u001b[38;5;241m.\u001b[39mLOGGER\u001b[38;5;241m.\u001b[39minfo(\n\u001b[1;32m    694\u001b[0m              \u001b[38;5;124m'\u001b[39m\u001b[38;5;124mCompiling problem (target solver=\u001b[39m\u001b[38;5;132;01m%s\u001b[39;00m\u001b[38;5;124m).\u001b[39m\u001b[38;5;124m'\u001b[39m, solver_name)\n\u001b[1;32m    695\u001b[0m     s\u001b[38;5;241m.\u001b[39mLOGGER\u001b[38;5;241m.\u001b[39minfo(\u001b[38;5;124m'\u001b[39m\u001b[38;5;124mReduction chain: \u001b[39m\u001b[38;5;132;01m%s\u001b[39;00m\u001b[38;5;124m'\u001b[39m, reduction_chain_str)\n\u001b[0;32m--> 696\u001b[0m data, inverse_data \u001b[38;5;241m=\u001b[39m \u001b[43msolving_chain\u001b[49m\u001b[38;5;241;43m.\u001b[39;49m\u001b[43mapply\u001b[49m\u001b[43m(\u001b[49m\u001b[38;5;28;43mself\u001b[39;49m\u001b[43m,\u001b[49m\u001b[43m \u001b[49m\u001b[43mverbose\u001b[49m\u001b[43m)\u001b[49m\n\u001b[1;32m    697\u001b[0m safe_to_cache \u001b[38;5;241m=\u001b[39m (\n\u001b[1;32m    698\u001b[0m     \u001b[38;5;28misinstance\u001b[39m(data, \u001b[38;5;28mdict\u001b[39m)\n\u001b[1;32m    699\u001b[0m     \u001b[38;5;129;01mand\u001b[39;00m s\u001b[38;5;241m.\u001b[39mPARAM_PROB \u001b[38;5;129;01min\u001b[39;00m data\n\u001b[1;32m    700\u001b[0m     \u001b[38;5;129;01mand\u001b[39;00m \u001b[38;5;129;01mnot\u001b[39;00m \u001b[38;5;28many\u001b[39m(\u001b[38;5;28misinstance\u001b[39m(reduction, EvalParams)\n\u001b[1;32m    701\u001b[0m                 \u001b[38;5;28;01mfor\u001b[39;00m reduction \u001b[38;5;129;01min\u001b[39;00m solving_chain\u001b[38;5;241m.\u001b[39mreductions)\n\u001b[1;32m    702\u001b[0m )\n\u001b[1;32m    703\u001b[0m \u001b[38;5;28mself\u001b[39m\u001b[38;5;241m.\u001b[39m_compilation_time \u001b[38;5;241m=\u001b[39m time\u001b[38;5;241m.\u001b[39mtime() \u001b[38;5;241m-\u001b[39m start\n",
            "File \u001b[0;32m~/anaconda3/envs/sayan/lib/python3.12/site-packages/cvxpy/reductions/chain.py:76\u001b[0m, in \u001b[0;36mChain.apply\u001b[0;34m(self, problem, verbose)\u001b[0m\n\u001b[1;32m     74\u001b[0m     \u001b[38;5;28;01mif\u001b[39;00m verbose:\n\u001b[1;32m     75\u001b[0m         s\u001b[38;5;241m.\u001b[39mLOGGER\u001b[38;5;241m.\u001b[39minfo(\u001b[38;5;124m'\u001b[39m\u001b[38;5;124mApplying reduction \u001b[39m\u001b[38;5;132;01m%s\u001b[39;00m\u001b[38;5;124m'\u001b[39m, \u001b[38;5;28mtype\u001b[39m(r)\u001b[38;5;241m.\u001b[39m\u001b[38;5;18m__name__\u001b[39m)\n\u001b[0;32m---> 76\u001b[0m     problem, inv \u001b[38;5;241m=\u001b[39m \u001b[43mr\u001b[49m\u001b[38;5;241;43m.\u001b[39;49m\u001b[43mapply\u001b[49m\u001b[43m(\u001b[49m\u001b[43mproblem\u001b[49m\u001b[43m)\u001b[49m\n\u001b[1;32m     77\u001b[0m     inverse_data\u001b[38;5;241m.\u001b[39mappend(inv)\n\u001b[1;32m     78\u001b[0m \u001b[38;5;28;01mreturn\u001b[39;00m problem, inverse_data\n",
            "File \u001b[0;32m~/anaconda3/envs/sayan/lib/python3.12/site-packages/cvxpy/reductions/solvers/conic_solvers/scs_conif.py:214\u001b[0m, in \u001b[0;36mSCS.apply\u001b[0;34m(self, problem)\u001b[0m\n\u001b[1;32m    206\u001b[0m \u001b[38;5;28;01mdef\u001b[39;00m \u001b[38;5;21mapply\u001b[39m(\u001b[38;5;28mself\u001b[39m, problem):\n\u001b[1;32m    207\u001b[0m \u001b[38;5;250m    \u001b[39m\u001b[38;5;124;03m\"\"\"Returns a new problem and data for inverting the new solution.\u001b[39;00m\n\u001b[1;32m    208\u001b[0m \n\u001b[1;32m    209\u001b[0m \u001b[38;5;124;03m    Returns\u001b[39;00m\n\u001b[0;32m   (...)\u001b[0m\n\u001b[1;32m    212\u001b[0m \u001b[38;5;124;03m        (dict of arguments needed for the solver, inverse data)\u001b[39;00m\n\u001b[1;32m    213\u001b[0m \u001b[38;5;124;03m    \"\"\"\u001b[39;00m\n\u001b[0;32m--> 214\u001b[0m     \u001b[38;5;28;01mreturn\u001b[39;00m \u001b[38;5;28;43msuper\u001b[39;49m\u001b[43m(\u001b[49m\u001b[43mSCS\u001b[49m\u001b[43m,\u001b[49m\u001b[43m \u001b[49m\u001b[38;5;28;43mself\u001b[39;49m\u001b[43m)\u001b[49m\u001b[38;5;241;43m.\u001b[39;49m\u001b[43mapply\u001b[49m\u001b[43m(\u001b[49m\u001b[43mproblem\u001b[49m\u001b[43m)\u001b[49m\n",
            "File \u001b[0;32m~/anaconda3/envs/sayan/lib/python3.12/site-packages/cvxpy/reductions/solvers/conic_solvers/conic_solver.py:355\u001b[0m, in \u001b[0;36mConicSolver.apply\u001b[0;34m(self, problem)\u001b[0m\n\u001b[1;32m    344\u001b[0m \u001b[38;5;250m\u001b[39m\u001b[38;5;124;03m\"\"\"Returns a new problem and data for inverting the new solution.\u001b[39;00m\n\u001b[1;32m    345\u001b[0m \n\u001b[1;32m    346\u001b[0m \u001b[38;5;124;03mReturns\u001b[39;00m\n\u001b[0;32m   (...)\u001b[0m\n\u001b[1;32m    349\u001b[0m \u001b[38;5;124;03m    (dict of arguments needed for the solver, inverse data)\u001b[39;00m\n\u001b[1;32m    350\u001b[0m \u001b[38;5;124;03m\"\"\"\u001b[39;00m\n\u001b[1;32m    352\u001b[0m \u001b[38;5;66;03m# This is a reference implementation following SCS conventions\u001b[39;00m\n\u001b[1;32m    353\u001b[0m \u001b[38;5;66;03m# Implementations for other solvers may amend or override the implementation entirely\u001b[39;00m\n\u001b[0;32m--> 355\u001b[0m problem, data, inv_data \u001b[38;5;241m=\u001b[39m \u001b[38;5;28;43mself\u001b[39;49m\u001b[38;5;241;43m.\u001b[39;49m\u001b[43m_prepare_data_and_inv_data\u001b[49m\u001b[43m(\u001b[49m\u001b[43mproblem\u001b[49m\u001b[43m)\u001b[49m\n\u001b[1;32m    357\u001b[0m \u001b[38;5;66;03m# Apply parameter values.\u001b[39;00m\n\u001b[1;32m    358\u001b[0m \u001b[38;5;66;03m# Obtain A, b such that Ax + s = b, s \\in cones.\u001b[39;00m\n\u001b[1;32m    359\u001b[0m \u001b[38;5;28;01mif\u001b[39;00m problem\u001b[38;5;241m.\u001b[39mP \u001b[38;5;129;01mis\u001b[39;00m \u001b[38;5;28;01mNone\u001b[39;00m:\n",
            "File \u001b[0;32m~/anaconda3/envs/sayan/lib/python3.12/site-packages/cvxpy/reductions/solvers/conic_solvers/conic_solver.py:332\u001b[0m, in \u001b[0;36mConicSolver._prepare_data_and_inv_data\u001b[0;34m(self, problem)\u001b[0m\n\u001b[1;32m    321\u001b[0m \u001b[38;5;66;03m# Format constraints\u001b[39;00m\n\u001b[1;32m    322\u001b[0m \u001b[38;5;66;03m#\u001b[39;00m\n\u001b[1;32m    323\u001b[0m \u001b[38;5;66;03m# By default cvxpy follows the SCS convention, which requires\u001b[39;00m\n\u001b[0;32m   (...)\u001b[0m\n\u001b[1;32m    329\u001b[0m \u001b[38;5;66;03m# 5. exponential\u001b[39;00m\n\u001b[1;32m    330\u001b[0m \u001b[38;5;66;03m# 6. three-dimensional power cones\u001b[39;00m\n\u001b[1;32m    331\u001b[0m \u001b[38;5;28;01mif\u001b[39;00m \u001b[38;5;129;01mnot\u001b[39;00m problem\u001b[38;5;241m.\u001b[39mformatted:\n\u001b[0;32m--> 332\u001b[0m     problem \u001b[38;5;241m=\u001b[39m \u001b[38;5;28;43mself\u001b[39;49m\u001b[38;5;241;43m.\u001b[39;49m\u001b[43mformat_constraints\u001b[49m\u001b[43m(\u001b[49m\u001b[43mproblem\u001b[49m\u001b[43m,\u001b[49m\u001b[43m \u001b[49m\u001b[38;5;28;43mself\u001b[39;49m\u001b[38;5;241;43m.\u001b[39;49m\u001b[43mEXP_CONE_ORDER\u001b[49m\u001b[43m)\u001b[49m\n\u001b[1;32m    333\u001b[0m data[s\u001b[38;5;241m.\u001b[39mPARAM_PROB] \u001b[38;5;241m=\u001b[39m problem\n\u001b[1;32m    334\u001b[0m data[\u001b[38;5;28mself\u001b[39m\u001b[38;5;241m.\u001b[39mDIMS] \u001b[38;5;241m=\u001b[39m problem\u001b[38;5;241m.\u001b[39mcone_dims\n",
            "File \u001b[0;32m~/anaconda3/envs/sayan/lib/python3.12/site-packages/cvxpy/reductions/solvers/conic_solvers/conic_solver.py:264\u001b[0m, in \u001b[0;36mConicSolver.format_constraints\u001b[0;34m(self, problem, exp_cone_order)\u001b[0m\n\u001b[1;32m    260\u001b[0m restruct_mat \u001b[38;5;241m=\u001b[39m as_block_diag_linear_operator(restruct_mat)\n\u001b[1;32m    261\u001b[0m \u001b[38;5;66;03m# this is equivalent to but _much_ faster than:\u001b[39;00m\n\u001b[1;32m    262\u001b[0m \u001b[38;5;66;03m#    restruct_mat_rep = sp.block_diag([restruct_mat]*(problem.x.size + 1))\u001b[39;00m\n\u001b[1;32m    263\u001b[0m \u001b[38;5;66;03m#    restruct_A = restruct_mat_rep * problem.A\u001b[39;00m\n\u001b[0;32m--> 264\u001b[0m unspecified, remainder \u001b[38;5;241m=\u001b[39m \u001b[38;5;28;43mdivmod\u001b[39;49m\u001b[43m(\u001b[49m\u001b[43mproblem\u001b[49m\u001b[38;5;241;43m.\u001b[39;49m\u001b[43mA\u001b[49m\u001b[38;5;241;43m.\u001b[39;49m\u001b[43mshape\u001b[49m\u001b[43m[\u001b[49m\u001b[38;5;241;43m0\u001b[39;49m\u001b[43m]\u001b[49m\u001b[43m \u001b[49m\u001b[38;5;241;43m*\u001b[39;49m\n\u001b[1;32m    265\u001b[0m \u001b[43m                                \u001b[49m\u001b[43mproblem\u001b[49m\u001b[38;5;241;43m.\u001b[39;49m\u001b[43mA\u001b[49m\u001b[38;5;241;43m.\u001b[39;49m\u001b[43mshape\u001b[49m\u001b[43m[\u001b[49m\u001b[38;5;241;43m1\u001b[39;49m\u001b[43m]\u001b[49m\u001b[43m,\u001b[49m\n\u001b[1;32m    266\u001b[0m \u001b[43m                                \u001b[49m\u001b[43mrestruct_mat\u001b[49m\u001b[38;5;241;43m.\u001b[39;49m\u001b[43mshape\u001b[49m\u001b[43m[\u001b[49m\u001b[38;5;241;43m1\u001b[39;49m\u001b[43m]\u001b[49m\u001b[43m)\u001b[49m\n\u001b[1;32m    267\u001b[0m reshaped_A \u001b[38;5;241m=\u001b[39m problem\u001b[38;5;241m.\u001b[39mA\u001b[38;5;241m.\u001b[39mreshape(restruct_mat\u001b[38;5;241m.\u001b[39mshape[\u001b[38;5;241m1\u001b[39m],\n\u001b[1;32m    268\u001b[0m                                unspecified, order\u001b[38;5;241m=\u001b[39m\u001b[38;5;124m'\u001b[39m\u001b[38;5;124mF\u001b[39m\u001b[38;5;124m'\u001b[39m)\u001b[38;5;241m.\u001b[39mtocsr()\n\u001b[1;32m    269\u001b[0m restructured_A \u001b[38;5;241m=\u001b[39m restruct_mat(reshaped_A)\u001b[38;5;241m.\u001b[39mtocoo()\n",
            "\u001b[0;31mOverflowError\u001b[0m: Python integer 80815051650 out of bounds for int32"
          ]
        }
      ],
      "source": [
        "layer_wt = layer\n",
        "s = layer_wt.size()\n",
        "print(\"Heh\",flush=True)\n",
        "layer_flat = torch.reshape(layer_wt,(s[0]*s[1],s[2]*s[3]))\n",
        "\n",
        "h_0 = layer_flat.detach().numpy()\n",
        "h_0_vec = h_0.ravel()\n",
        "h = cp.Variable((s[0]*s[1],s[2]*s[3]))\n",
        "print(\"Hehe\",flush=True)\n",
        "objective = cp.Minimize(cp.norm(h_0 - h,\"fro\"))\n",
        "#objective = cp.Minimize(cp.norm(h_0_vec - cp.vec(h,order='F'),1))\n",
        "k = s[3]\n",
        "n = 40\n",
        "print(\"Hey\",flush=True)\n",
        "\n",
        "d = s[0]*s[1]\n",
        "vertices = createComplexVerticesL2Norm(d)\n",
        "pts = vertices.shape[1]\n",
        "\n",
        "print(\"meow\",flush=True)\n",
        "F = createFourierMatrix(k,n)\n",
        "F = F.numpy()\n",
        "\n",
        "h_f = h@np.real(np.transpose(F)) + 1j*(h@np.imag(np.transpose(F)))\n",
        "h_f = cp.vstack((h_f,np.ones((1,n*n))))\n",
        "l= cp.Variable((pts,n*n))\n",
        "V = cp.vstack((vertices,np.ones((1,pts))))\n",
        "\n",
        "constraints=[V@l==h_f,l>=0]\n",
        "print(\"boooop\",flush=True)\n",
        "\n",
        "prob = cp.Problem(objective, constraints)\n",
        "try:\n",
        "    prob.solve(canon_backend=cp.SCIPY_CANON_BACKEND,solver = 'SCS',eps=1e-3)  # Adjust solver as needed\n",
        "    ans3 = torch.from_numpy(h.value)\n",
        "    ans3 = torch.reshape(ans3,(s[0],s[1],s[2],s[3]))\n",
        "    print(torch.sum(torch.square(ans3-layer)))\n",
        "    ans_layer = ans3.type(torch.float32)\n",
        "    print(computeLayerLipschitzFourier(ans_layer,n))\n",
        "except cp.error.SolverError as e:\n",
        "    print(e)"
      ]
    },
    {
      "cell_type": "code",
      "execution_count": 6,
      "metadata": {
        "id": "D14cELLsQbqQ"
      },
      "outputs": [],
      "source": [
        "layer = torch.tensor([[1,0,0],[0,1,0],[0,0,1]])\n",
        "layer = layer.unsqueeze(0).unsqueeze(0)"
      ]
    },
    {
      "cell_type": "code",
      "execution_count": 16,
      "metadata": {
        "colab": {
          "base_uri": "https://localhost:8080/"
        },
        "id": "E-tKnAEzfzQr",
        "outputId": "beac9445-c27e-4a9b-80e0-0817c36500c8"
      },
      "outputs": [
        {
          "name": "stdout",
          "output_type": "stream",
          "text": [
            "torch.Size([64, 3, 11, 11])\n"
          ]
        }
      ],
      "source": [
        "print(layer1.shape)"
      ]
    },
    {
      "cell_type": "code",
      "execution_count": 7,
      "metadata": {
        "id": "i2Di1mPUiD1I"
      },
      "outputs": [],
      "source": [
        "layer2 = alexnet_model.features[3].weight"
      ]
    },
    {
      "cell_type": "code",
      "execution_count": null,
      "metadata": {},
      "outputs": [],
      "source": [
        "import scipy.optimize"
      ]
    },
    {
      "cell_type": "code",
      "execution_count": null,
      "metadata": {},
      "outputs": [],
      "source": [
        "import numpy as np\n",
        "from scipy.optimize import minimize"
      ]
    },
    {
      "cell_type": "code",
      "execution_count": null,
      "metadata": {},
      "outputs": [],
      "source": [
        "def objective(l, H, H_0, V, F):\n",
        "    # Compute H from lambda using the constraint V*lambda = F*H\n",
        "    H = np.linalg.lstsq(F, l.T @ V.T)\n",
        "    \n",
        "    # Compute the Frobenius norm\n",
        "    norm = np.linalg.norm(H.T - H_0, ord='fro')\n",
        "    \n",
        "    return norm"
      ]
    },
    {
      "cell_type": "code",
      "execution_count": null,
      "metadata": {},
      "outputs": [],
      "source": [
        "layer_wt = layer\n",
        "s = layer_wt.size()\n",
        "print(\"Heh\",flush=True)\n",
        "layer_flat = torch.reshape(layer_wt,(s[0]*s[1],s[2]*s[3]))\n",
        "\n",
        "h_0 = layer_flat.detach().numpy()\n",
        "h_0_vec = h_0.ravel()\n",
        "h = cp.Variable((s[0]*s[1],s[2]*s[3]))\n",
        "k = s[3]\n",
        "n = 40\n",
        "print(\"Hey\",flush=True)\n",
        "\n",
        "d = s[0]*s[1]\n",
        "vertices = createComplexVerticesL2Norm(d)\n",
        "pts = vertices.shape[1]\n",
        "\n",
        "print(\"meow\",flush=True)\n",
        "F = createFourierMatrix(k,n)\n",
        "F = F.numpy()\n",
        "l= np.array((pts,n*n))\n",
        "\n",
        "# Define the constraints\n",
        "constraints = (\n",
        "    {'type': 'eq', 'fun': lambda l: np.sum(l) - 1},  # sum of lambda = 1\n",
        "    {'type': 'ineq', 'fun': lambda l: l}  # lambda >= 0\n",
        ")\n",
        "\n",
        "# Define the bounds for lambda\n",
        "bounds = [(0, 1) for _ in range(l.size)]\n",
        "\n",
        "# Initial guess for lambda\n",
        "lambda_init = np.ones(l.shape) / l.size\n",
        "\n",
        "# Run the optimization\n",
        "res = minimize(objective, lambda_init, args=(h_0, vertices, F), method=\"SLSQP\", constraints=constraints, bounds=bounds)\n",
        "\n",
        "# Print the optimized lambda and H\n",
        "print(\"Optimized lambda:\", res.x)\n",
        "print(\"Optimized H:\", np.linalg.solve(F, V @ res.x))"
      ]
    },
    {
      "cell_type": "code",
      "execution_count": null,
      "metadata": {},
      "outputs": [],
      "source": [
        "\n",
        "\n",
        "\n",
        "\n"
      ]
    }
  ],
  "metadata": {
    "accelerator": "GPU",
    "colab": {
      "gpuType": "T4",
      "provenance": []
    },
    "kernelspec": {
      "display_name": "Python 3",
      "name": "python3"
    },
    "language_info": {
      "codemirror_mode": {
        "name": "ipython",
        "version": 3
      },
      "file_extension": ".py",
      "mimetype": "text/x-python",
      "name": "python",
      "nbconvert_exporter": "python",
      "pygments_lexer": "ipython3",
      "version": "3.12.4"
    }
  },
  "nbformat": 4,
  "nbformat_minor": 0
}
