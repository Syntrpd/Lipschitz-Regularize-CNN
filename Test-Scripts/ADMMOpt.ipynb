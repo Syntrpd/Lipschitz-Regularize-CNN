{
 "cells": [
  {
   "cell_type": "code",
   "execution_count": 2,
   "metadata": {},
   "outputs": [],
   "source": [
    "import cmath\n",
    "import math\n",
    "import numpy as np\n",
    "import torch\n",
    "import torchvision\n",
    "import torchvision.transforms as transforms\n",
    "\n",
    "device = torch.device('cuda' if torch.cuda.is_available() else 'cpu')"
   ]
  },
  {
   "cell_type": "code",
   "execution_count": 2,
   "metadata": {},
   "outputs": [],
   "source": [
    "from Utilities import createFourierMatrix,zeroPad2DMatrix,deZeroPad2DMatrix,computeLayerLipschitzFourier"
   ]
  },
  {
   "cell_type": "code",
   "execution_count": 5,
   "metadata": {},
   "outputs": [],
   "source": [
    "def SGDminimize(X0,Z,U,F,rho):\n",
    "    F_real, F_imag = torch.real(F), torch.imag(F)\n",
    "    device = torch.device('cuda' if torch.cuda.is_available() else 'cpu')\n",
    "    X = torch.rand_like(X0, requires_grad=True,dtype = torch.float32).to(device)\n",
    "    optimizer = torch.optim.Adam([X], lr=0.01)\n",
    "    for step in range(1000):\n",
    "        optimizer.zero_grad()\n",
    "        loss = torch.norm(X - X0, p='fro')**2\n",
    "        res_real = X@F_real.T - Z.real + U.real\n",
    "        res_imag = X@F_imag.T - Z.imag + U.imag \n",
    "        loss = loss + (rho/2)*torch.sum((res_imag**2 + res_real**2))\n",
    "\n",
    "        loss.backward()\n",
    "        optimizer.step()\n",
    "        #if(step%100 ==0):\n",
    "        #    print(loss)\n",
    "    \n",
    "    return X.detach()"
   ]
  },
  {
   "cell_type": "code",
   "execution_count": 3,
   "metadata": {},
   "outputs": [
    {
     "name": "stderr",
     "output_type": "stream",
     "text": [
      "/home/kunallab/anaconda3/envs/sayan/lib/python3.12/site-packages/torchvision/models/_utils.py:208: UserWarning: The parameter 'pretrained' is deprecated since 0.13 and may be removed in the future, please use 'weights' instead.\n",
      "  warnings.warn(\n",
      "/home/kunallab/anaconda3/envs/sayan/lib/python3.12/site-packages/torchvision/models/_utils.py:223: UserWarning: Arguments other than a weight enum or `None` for 'weights' are deprecated since 0.13 and may be removed in the future. The current behavior is equivalent to passing `weights=AlexNet_Weights.IMAGENET1K_V1`. You can also use `weights=AlexNet_Weights.DEFAULT` to get the most up-to-date weights.\n",
      "  warnings.warn(msg)\n"
     ]
    }
   ],
   "source": [
    "import torchvision.models as models\n",
    "alexnet_model = models.alexnet(pretrained=True)"
   ]
  },
  {
   "cell_type": "code",
   "execution_count": 11,
   "metadata": {},
   "outputs": [
    {
     "name": "stdout",
     "output_type": "stream",
     "text": [
      "tensor([[[[0.0000, 0.3000, 0.0000],\n",
      "          [0.0000, 0.4000, 0.0000],\n",
      "          [0.0000, 0.3000, 0.0000]]]])\n"
     ]
    }
   ],
   "source": [
    "layer = torch.tensor([[[[0,0.3,0],[0,0.4,0],[0,0.3,0]]]])\n",
    "print(layer)"
   ]
  },
  {
   "cell_type": "code",
   "execution_count": null,
   "metadata": {},
   "outputs": [],
   "source": [
    "layer = torch.rand((1,1,3,3))"
   ]
  },
  {
   "cell_type": "code",
   "execution_count": 12,
   "metadata": {},
   "outputs": [
    {
     "ename": "RuntimeError",
     "evalue": "CUDA error: out of memory\nCUDA kernel errors might be asynchronously reported at some other API call, so the stacktrace below might be incorrect.\nFor debugging consider passing CUDA_LAUNCH_BLOCKING=1.\nCompile with `TORCH_USE_CUDA_DSA` to enable device-side assertions.\n",
     "output_type": "error",
     "traceback": [
      "\u001b[0;31m---------------------------------------------------------------------------\u001b[0m",
      "\u001b[0;31mRuntimeError\u001b[0m                              Traceback (most recent call last)",
      "Cell \u001b[0;32mIn[12], line 7\u001b[0m\n\u001b[1;32m      4\u001b[0m device \u001b[38;5;241m=\u001b[39m torch\u001b[38;5;241m.\u001b[39mdevice(\u001b[38;5;124m'\u001b[39m\u001b[38;5;124mcuda\u001b[39m\u001b[38;5;124m'\u001b[39m \u001b[38;5;28;01mif\u001b[39;00m torch\u001b[38;5;241m.\u001b[39mcuda\u001b[38;5;241m.\u001b[39mis_available() \u001b[38;5;28;01melse\u001b[39;00m \u001b[38;5;124m'\u001b[39m\u001b[38;5;124mcpu\u001b[39m\u001b[38;5;124m'\u001b[39m)\n\u001b[1;32m      6\u001b[0m \u001b[38;5;66;03m#layer = alexnet_model.features[3].weight.to(device)\u001b[39;00m\n\u001b[0;32m----> 7\u001b[0m layer \u001b[38;5;241m=\u001b[39m \u001b[43mlayer\u001b[49m\u001b[38;5;241;43m.\u001b[39;49m\u001b[43mto\u001b[49m\u001b[43m(\u001b[49m\u001b[43mdevice\u001b[49m\u001b[43m)\u001b[49m\n\u001b[1;32m      8\u001b[0m s \u001b[38;5;241m=\u001b[39m layer\u001b[38;5;241m.\u001b[39mshape\n\u001b[1;32m      9\u001b[0m k \u001b[38;5;241m=\u001b[39m s[\u001b[38;5;241m3\u001b[39m]\n",
      "\u001b[0;31mRuntimeError\u001b[0m: CUDA error: out of memory\nCUDA kernel errors might be asynchronously reported at some other API call, so the stacktrace below might be incorrect.\nFor debugging consider passing CUDA_LAUNCH_BLOCKING=1.\nCompile with `TORCH_USE_CUDA_DSA` to enable device-side assertions.\n"
     ]
    }
   ],
   "source": [
    "#ADMM Frobenius Normalize\n",
    "import torch\n",
    "\n",
    "device = torch.device('cuda' if torch.cuda.is_available() else 'cpu')\n",
    "\n",
    "#layer = alexnet_model.features[3].weight.to(device)\n",
    "layer = layer.to(device)\n",
    "s = layer.shape\n",
    "k = s[3]\n",
    "n = 40\n",
    "\n",
    "F = createFourierMatrix(k,n)\n",
    "\n",
    "# Constants (example values, replace these with actual data)\n",
    "all_one = torch.ones(n*n,device=device)\n",
    "H0 = torch.reshape(layer,(s[0]*s[1],s[2]*s[3])).to(device)\n",
    "print(H0.shape)\n",
    "F = F.to(device)\n",
    "print(F.shape)\n",
    "F_real, F_imag = torch.real(F), torch.imag(F)\n",
    "\n",
    "# Initialize optimization variables (H and lambda)\n",
    "H = torch.rand_like(H0,dtype = torch.float32).to(device)\n",
    "print(H.shape)\n",
    "U = torch.zeros((s[0]*s[1],n*n),dtype=torch.complex64).to(device)\n",
    "Hf = torch.zeros((s[0]*s[1],n*n),dtype=torch.complex64).to(device)\n",
    "\n",
    "pri_res = 100\n",
    "rho = 0.1\n",
    "\n",
    "#i = 0\n",
    "#while pri_res>0.5:\n",
    "for i in range(100):\n",
    "    # Optimize H\n",
    "    H = SGDminimize(H0,Hf,U,F,rho)\n",
    "\n",
    "    H_fourier = torch.zeros(Hf.shape,dtype = torch.complex64).to(device)\n",
    "    H_fourier.real = H@torch.real(F.T)\n",
    "    H_fourier.imag = H@torch.imag(F.T)\n",
    "\n",
    "    #Optimize Hf\n",
    "\n",
    "    Hf = H_fourier + U\n",
    "    H_frob = torch.clamp(torch.sqrt(torch.sum(torch.square(torch.abs(Hf)),dim = 0)),min=1)\n",
    "    s_f = H_frob.shape\n",
    "    Hf = torch.div(Hf,torch.reshape(H_frob,(1,s_f[0])))\n",
    "\n",
    "    # Update U\n",
    "    U = U + H_fourier - Hf\n",
    "    pri_res = torch.norm(H_fourier - Hf, p='fro')\n",
    "    #i=i+1\n",
    "    if(i%10 == 0):\n",
    "        print(f'Step {i}: Primal Residual:{pri_res}')\n",
    "# Results\n",
    "print(f'Optimized H:\\n{H}')"
   ]
  },
  {
   "cell_type": "code",
   "execution_count": null,
   "metadata": {},
   "outputs": [],
   "source": [
    "#Output Test\n",
    "layer_wt = torch.reshape(H,(s[0],s[1],s[2],s[3]))\n",
    "print(f'Lipschitz Constant: {computeLayerLipschitzFourier(layer_wt,n)}')\n",
    "print(f'Difference:{torch.norm(H - H0, p=\"fro\")**2}')\n",
    "print(f'Original H:\\n{H0}')"
   ]
  },
  {
   "cell_type": "code",
   "execution_count": null,
   "metadata": {},
   "outputs": [],
   "source": [
    "#ADMM Frobenius Normalize - Heuristc\n",
    "import torch\n",
    "\n",
    "device = torch.device('cuda' if torch.cuda.is_available() else 'cpu')\n",
    "\n",
    "layer = alexnet_model.features[3].weight.to(device)\n",
    "#layer = layer.to(device)\n",
    "s = layer.shape\n",
    "k = s[3]\n",
    "n = 40\n",
    "\n",
    "#F = createFourierMatrix(k,n)\n",
    "\n",
    "# Constants (example values, replace these with actual data)\n",
    "H0 = zeroPad2DMatrix(layer,n)\n",
    "H0 = torch.reshape(H0,(s[0]*s[1],n,n)).to(device)\n",
    "\n",
    "print(H0.shape)\n",
    "#F = F.to(device)\n",
    "#print(F.shape)\n",
    "#F_real, F_imag = torch.real(F), torch.imag(F)\n",
    "\n",
    "# Initialize optimization variables (H and lambda)\n",
    "H = torch.rand_like(H0,dtype = torch.float32).to(device)\n",
    "print(H.shape)\n",
    "U = torch.zeros((s[0]*s[1],n,n),dtype=torch.complex64).to(device)\n",
    "Hf = torch.zeros((s[0]*s[1],n,n),dtype=torch.complex64).to(device)\n",
    "\n",
    "pri_res = 100\n",
    "rho = 0.1\n",
    "\n",
    "#i = 0\n",
    "#optimizer = torch.optim.Adam([H], lr=0.01)\n",
    "#while pri_res>0.5:\n",
    "for i in range(100):\n",
    "    # Optimize H\n",
    "    x = torch.fft.ifft2(Hf-U,norm='ortho')\n",
    "    H = (2*H0 + (rho) * torch.real(x))/(2+rho)\n",
    "    H = torch.reshape(H,(s[0],s[1],n,n))\n",
    "    H = deZeroPad2DMatrix(H,k)\n",
    "    H = zeroPad2DMatrix(H,n)\n",
    "    H = torch.reshape(H,(s[0]*s[1],n,n))\n",
    "\n",
    "    H_fourier = torch.fft.fft2(H,norm='ortho')\n",
    "\n",
    "    #Optimize Hf\n",
    "\n",
    "    Hf = H_fourier + U\n",
    "    H_frob = torch.clamp(torch.sqrt(torch.sum(torch.square(torch.abs(Hf)),dim = 0)),min=1)\n",
    "    #H_frob = torch.sum(torch.abs(Hf),dim = 0)\n",
    "    #print(H_frob)\n",
    "    s_f = H_frob.shape\n",
    "    Hf = torch.div(Hf,torch.reshape(H_frob,(1,n,n)))\n",
    "\n",
    "    # Update U\n",
    "    U = U + H_fourier - Hf\n",
    "    pri_res = torch.norm(H_fourier - Hf, p='fro')\n",
    "    #i=i+1\n",
    "    if(i%10 == 0):\n",
    "        print(f'Step {i}: Primal Residual:{pri_res}')\n",
    "# Results\n",
    "print(f'Optimized H:\\n{H}')"
   ]
  },
  {
   "cell_type": "code",
   "execution_count": null,
   "metadata": {},
   "outputs": [],
   "source": [
    "#Output Test\n",
    "A = torch.reshape(H,(s[0],s[1],n,n))\n",
    "A = deZeroPad2DMatrix(A,k)\n",
    "layer_wt = torch.reshape(A,(s[0],s[1],s[2],s[3]))\n",
    "print(f'Lipschitz Constant: {computeLayerLipschitzFourier(layer_wt,n)}')\n",
    "print(f'Difference:{torch.norm(H - H0, p=\"fro\")**2}')\n",
    "print(f'Original H:\\n{H0}')"
   ]
  },
  {
   "cell_type": "code",
   "execution_count": 13,
   "metadata": {},
   "outputs": [
    {
     "ename": "RuntimeError",
     "evalue": "CUDA error: out of memory\nCUDA kernel errors might be asynchronously reported at some other API call, so the stacktrace below might be incorrect.\nFor debugging consider passing CUDA_LAUNCH_BLOCKING=1.\nCompile with `TORCH_USE_CUDA_DSA` to enable device-side assertions.\n",
     "output_type": "error",
     "traceback": [
      "\u001b[0;31m---------------------------------------------------------------------------\u001b[0m",
      "\u001b[0;31mRuntimeError\u001b[0m                              Traceback (most recent call last)",
      "Cell \u001b[0;32mIn[13], line 6\u001b[0m\n\u001b[1;32m      2\u001b[0m \u001b[38;5;28;01mimport\u001b[39;00m \u001b[38;5;21;01mtorch\u001b[39;00m\n\u001b[1;32m      4\u001b[0m device \u001b[38;5;241m=\u001b[39m torch\u001b[38;5;241m.\u001b[39mdevice(\u001b[38;5;124m'\u001b[39m\u001b[38;5;124mcuda\u001b[39m\u001b[38;5;124m'\u001b[39m \u001b[38;5;28;01mif\u001b[39;00m torch\u001b[38;5;241m.\u001b[39mcuda\u001b[38;5;241m.\u001b[39mis_available() \u001b[38;5;28;01melse\u001b[39;00m \u001b[38;5;124m'\u001b[39m\u001b[38;5;124mcpu\u001b[39m\u001b[38;5;124m'\u001b[39m)\n\u001b[0;32m----> 6\u001b[0m layer \u001b[38;5;241m=\u001b[39m \u001b[43malexnet_model\u001b[49m\u001b[38;5;241;43m.\u001b[39;49m\u001b[43mfeatures\u001b[49m\u001b[43m[\u001b[49m\u001b[38;5;241;43m3\u001b[39;49m\u001b[43m]\u001b[49m\u001b[38;5;241;43m.\u001b[39;49m\u001b[43mweight\u001b[49m\u001b[38;5;241;43m.\u001b[39;49m\u001b[43mto\u001b[49m\u001b[43m(\u001b[49m\u001b[43mdevice\u001b[49m\u001b[43m)\u001b[49m\n\u001b[1;32m      7\u001b[0m layer \u001b[38;5;241m=\u001b[39m layer\u001b[38;5;241m.\u001b[39mto(device)\n\u001b[1;32m      8\u001b[0m s \u001b[38;5;241m=\u001b[39m layer\u001b[38;5;241m.\u001b[39mshape\n",
      "\u001b[0;31mRuntimeError\u001b[0m: CUDA error: out of memory\nCUDA kernel errors might be asynchronously reported at some other API call, so the stacktrace below might be incorrect.\nFor debugging consider passing CUDA_LAUNCH_BLOCKING=1.\nCompile with `TORCH_USE_CUDA_DSA` to enable device-side assertions.\n"
     ]
    }
   ],
   "source": [
    "#ADMM Frobenius Normalize - Exact\n",
    "import torch\n",
    "\n",
    "device = torch.device('cuda' if torch.cuda.is_available() else 'cpu')\n",
    "\n",
    "layer = alexnet_model.features[3].weight.to(device)\n",
    "layer = layer.to(device)\n",
    "s = layer.shape\n",
    "k = s[3]\n",
    "n = 40\n",
    "\n",
    "F = createFourierMatrix(k,n)\n",
    "\n",
    "# Constants (example values, replace these with actual data)\n",
    "\n",
    "H0 = torch.reshape(layer,(s[0]*s[1],k*k)).to(device)\n",
    "\n",
    "print(H0.shape)\n",
    "F = F.to(device)\n",
    "#print(F.shape)\n",
    "F_real, F_imag = torch.real(F), torch.imag(F)\n",
    "\n",
    "# Initialize optimization variables (H and lambda)\n",
    "H = torch.rand_like(H0,dtype = torch.float32).to(device)\n",
    "print(H.shape)\n",
    "U = torch.zeros((s[0]*s[1],n*n),dtype=torch.complex64).to(device)\n",
    "Hf = torch.zeros((s[0]*s[1],n*n),dtype=torch.complex64).to(device)\n",
    "\n",
    "pri_res = 100\n",
    "rho = 0.1\n",
    "\n",
    "temp = 2*torch.eye(k*k).to(device) + rho*torch.real(F.H@F)\n",
    "temp = temp.to('cpu')\n",
    "l,v = torch.linalg.eig(temp)\n",
    "print(l)\n",
    "inv_mat = torch.linalg.inv(temp)\n",
    "inv_mat = inv_mat.to(device)\n",
    "\n",
    "#i = 0\n",
    "#optimizer = torch.optim.Adam([H], lr=0.01)\n",
    "#while pri_res>0.5:\n",
    "for i in range(100):\n",
    "    # Optimize H\n",
    "    x = Hf - U\n",
    "    H = (2*H0 + rho*torch.real(torch.conj(x)@F))@inv_mat\n",
    "    #H = H.to(torch.float32)\n",
    "\n",
    "    H_fourier = torch.zeros(Hf.shape,dtype = torch.complex64).to(device)\n",
    "    H_fourier.real = H@torch.real(F.T)\n",
    "    H_fourier.imag = H@torch.imag(F.T)\n",
    "    #print(H_fourier)\n",
    "    #Optimize Hf\n",
    "\n",
    "    dual_res = Hf\n",
    "    Hf = H_fourier + U\n",
    "    H_frob = torch.clamp(torch.sqrt(torch.sum(torch.square(torch.abs(Hf)),dim = 0)),min=1)\n",
    "    #H_frob = torch.sum(torch.abs(Hf),dim = 0)\n",
    "    #print(H_frob)\n",
    "    s_f = H_frob.shape\n",
    "    Hf = torch.div(Hf,torch.reshape(H_frob,(1,s_f[0])))\n",
    "    dual_res = torch.norm(Hf - dual_res, p='fro')\n",
    "\n",
    "    # Update U\n",
    "    U = U + H_fourier - Hf\n",
    "    pri_res = torch.norm(H_fourier - Hf, p='fro')\n",
    "\n",
    "    #i=i+1\n",
    "    if(i%10 == 0):\n",
    "        print(f'Step {i}: Primal Residual:{pri_res} --- Dual Residual:{dual_res}')\n",
    "# Results\n",
    "print(f'Optimized H:\\n{H}')"
   ]
  },
  {
   "cell_type": "code",
   "execution_count": null,
   "metadata": {},
   "outputs": [],
   "source": [
    "#Output Test\n",
    "layer_wt = torch.reshape(H,(s[0],s[1],s[2],s[3]))\n",
    "print(f'Lipschitz Constant: {computeLayerLipschitzFourier(layer_wt,n)}')\n",
    "print(f'Difference:{torch.norm(H - H0, p=\"fro\")**2}')\n",
    "print(f'Original H:\\n{H0}')"
   ]
  }
 ],
 "metadata": {
  "kernelspec": {
   "display_name": "sayan",
   "language": "python",
   "name": "python3"
  },
  "language_info": {
   "codemirror_mode": {
    "name": "ipython",
    "version": 3
   },
   "file_extension": ".py",
   "mimetype": "text/x-python",
   "name": "python",
   "nbconvert_exporter": "python",
   "pygments_lexer": "ipython3",
   "version": "3.12.4"
  }
 },
 "nbformat": 4,
 "nbformat_minor": 2
}
